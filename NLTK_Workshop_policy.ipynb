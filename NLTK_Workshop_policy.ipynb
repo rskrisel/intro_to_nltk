{
  "cells": [
    {
      "cell_type": "markdown",
      "metadata": {
        "id": "view-in-github",
        "colab_type": "text"
      },
      "source": [
        "<a href=\"https://colab.research.google.com/github/rskrisel/intro_to_nltk/blob/main/NLTK_Workshop_policy.ipynb\" target=\"_parent\"><img src=\"https://colab.research.google.com/assets/colab-badge.svg\" alt=\"Open In Colab\"/></a>"
      ]
    },
    {
      "cell_type": "markdown",
      "id": "3a20cdb2",
      "metadata": {
        "id": "3a20cdb2"
      },
      "source": [
        "# 🗣️ Session 3 — Text Analysis with NLTK (Beginner‑Friendly Colab)\n",
        "**Python for Public Policy**\n",
        "\n",
        "This workbook introduces Natural Language Processing (NLP) using **NLTK** on a small, policy‑relevant corpus (U.S. Inaugural Addresses). It’s written for beginners: before each code block you’ll see a plain‑English explanation of what the code does and why we’re doing it."
      ]
    },
    {
      "cell_type": "markdown",
      "id": "c97815d0",
      "metadata": {
        "id": "c97815d0"
      },
      "source": [
        "## 0) Setup — make sure NLTK is up to date (and download only what we need)\n",
        "**Why:** Colab sometimes has an older NLTK version. We upgrade it first, then fetch a *small* set of resources so everything runs quickly in class."
      ]
    },
    {
      "cell_type": "code",
      "execution_count": 42,
      "id": "ae8e4f39",
      "metadata": {
        "colab": {
          "base_uri": "https://localhost:8080/"
        },
        "id": "ae8e4f39",
        "outputId": "5728bed7-e5ea-4b33-b6e8-cb973d50d449"
      },
      "outputs": [
        {
          "output_type": "stream",
          "name": "stdout",
          "text": [
            "NLTK version: 3.9.1\n"
          ]
        }
      ],
      "source": [
        "# We upgrade NLTK to the latest version so functions and data work as expected.\n",
        "!pip -q install -U nltk\n",
        "\n",
        "# Now we import nltk and download only the small packages we need for this session.\n",
        "import nltk\n",
        "needed = [\"punkt_tab\",           # tokenizer (splits text into words)\n",
        "          \"stopwords\",       # list of common words to remove (the, and, is, ...)\n",
        "          \"wordnet\",         # lexical database used for lemmatization (getting word roots)\n",
        "          \"averaged_perceptron_tagger_eng\",  # part-of-speech tagger (N/V/Adj/Adv)\n",
        "          \"inaugural\"]       # a small corpus of U.S. inaugural addresses\n",
        "for pkg in needed:\n",
        "    nltk.download(pkg, quiet=True) # no status text printed - just downloads\n",
        "\n",
        "print(\"NLTK version:\", nltk.__version__)"
      ]
    },
    {
      "cell_type": "markdown",
      "id": "0d887fc2",
      "metadata": {
        "id": "0d887fc2"
      },
      "source": [
        "## 1) Load a small, policy‑relevant corpus (Inaugural Addresses)\n",
        "**Why:** This corpus is tiny (fast to run) and on‑topic for public policy. We’ll list the available speeches and pick one."
      ]
    },
    {
      "cell_type": "code",
      "execution_count": 43,
      "id": "55741774",
      "metadata": {
        "colab": {
          "base_uri": "https://localhost:8080/"
        },
        "id": "55741774",
        "outputId": "964ad81e-0a53-4004-a16d-240ccd9e868c"
      },
      "outputs": [
        {
          "output_type": "stream",
          "name": "stdout",
          "text": [
            "Speeches available: 60\n"
          ]
        },
        {
          "output_type": "execute_result",
          "data": {
            "text/plain": [
              "['1789-Washington.txt',\n",
              " '1793-Washington.txt',\n",
              " '1797-Adams.txt',\n",
              " '1801-Jefferson.txt',\n",
              " '1805-Jefferson.txt',\n",
              " '1809-Madison.txt',\n",
              " '1813-Madison.txt',\n",
              " '1817-Monroe.txt',\n",
              " '1821-Monroe.txt',\n",
              " '1825-Adams.txt']"
            ]
          },
          "metadata": {},
          "execution_count": 43
        }
      ],
      "source": [
        "# Import the inaugural corpus and preview what's available.\n",
        "from nltk.corpus import inaugural\n",
        "fileids = inaugural.fileids() # list of all the file identifiers (basically filenames) inside the corpus\n",
        "print(f\"Speeches available: {len(fileids)}\")\n",
        "fileids[:10]  # first few file names (e.g., '1961-Kennedy.txt')"
      ]
    },
    {
      "cell_type": "markdown",
      "id": "3d9cd525",
      "metadata": {
        "id": "3d9cd525"
      },
      "source": [
        "### Concordance, similar, dispersion\n",
        "### Quick Text Analysis Tools in NLTK\n",
        "\n",
        "**What these do:**  \n",
        "- **`concordance(\"word\")`** → shows where a word appears in the text, with a few words before and after.  \n",
        "- **`similar(\"word\")`** → finds other words that show up in *similar contexts*, revealing associations.  \n",
        "- **`dispersion_plot([...])`** → shows where words appear across a text or series of texts, almost like a timeline.  \n",
        "\n",
        "**Why this matters for policy work:**  \n",
        "These tools are simple but powerful ways to explore how language is used in politics and policy:  \n",
        "\n",
        "- **Concordance (word-in-context):** Helps you check how an issue is framed.  \n",
        "  *Example:* Looking at every use of “immigration” in congressional speeches might show whether it’s discussed mainly as an *economic issue* (“immigration and jobs”), a *security issue* (“immigration and border”), or a *humanitarian issue* (“immigration and dignity”).  \n",
        "\n",
        "- **Similar (word associations):** Reveals themes tied together in political rhetoric.  \n",
        "  *Example:* Searching `.similar(\"economy\")` in presidential speeches might bring up “jobs,” “growth,” or “markets,” showing which ideas are consistently linked with the economy.  \n",
        "\n",
        "- **Dispersion plot (word trends):** Lets you visualize when an issue rises or falls in importance.  \n",
        "  *Example:* Tracking “climate,” “terrorism,” and “inflation” across inaugural addresses could highlight how priorities shift over time — evidence for agenda-setting or changing public concerns.  \n",
        "\n",
        "👉 These tools give you quick, interpretable evidence that you can connect directly to policy debates. They turn messy text into insights about how issues are framed, which themes dominate, and how agendas evolve.  \n",
        "\n",
        "---\n",
        "\n",
        "**Optional Exercise:**  \n",
        "Pick one policy-relevant term (e.g., `\"economy\"`, `\"war\"`, `\"climate\"`) and:  \n",
        "1. Run at least one of the tools above.  \n",
        "2. Write a one-sentence takeaway in plain English (e.g., “In the inaugural speeches, ‘climate’ shows up only recently, suggesting it’s a newer policy priority.”).\n"
      ]
    },
    {
      "cell_type": "code",
      "execution_count": 44,
      "id": "c66d0025",
      "metadata": {
        "colab": {
          "base_uri": "https://localhost:8080/",
          "height": 740
        },
        "id": "c66d0025",
        "outputId": "00ea7c3a-47c4-4fb3-cc36-e849922f8742"
      },
      "outputs": [
        {
          "output_type": "stream",
          "name": "stdout",
          "text": [
            "Analyzing: 2009-Obama.txt\n",
            "\n",
            "The word 'economy' appears in these sentences:\n",
            "\n",
            "Displaying 3 of 3 matches:\n",
            "k of violence and hatred . our economy is badly weakened , a conseque\n",
            " to be done . the state of our economy calls for action , bold and sw\n",
            "rosperous . the success of our economy has always depended not just o\n",
            "\n",
            "The word 'economy' is used in similar contexts as:\n",
            "\n",
            "nation spirit journey government\n",
            "\n",
            "Now plotting keyword positions across the speech...\n",
            "\n"
          ]
        },
        {
          "output_type": "display_data",
          "data": {
            "text/plain": [
              "<Figure size 640x480 with 1 Axes>"
            ],
            "image/png": "[encoded data removed]"
          },
          "metadata": {}
        }
      ],
      "source": [
        "from nltk.tokenize import word_tokenize  # Splitting text into smaller units (tokens = words, punctuation, letters)\n",
        "from nltk.text import Text  # Turns a pile of words into a \"smart list\" you can search\n",
        "\n",
        "# Choose a speech\n",
        "s1 = fileids[-5]  # pick a specific fileid\n",
        "raw = inaugural.raw(s1)\n",
        "\n",
        "# Lowercase all tokens so 'Economy' == 'economy'\n",
        "tokens = [w.lower() for w in word_tokenize(raw)]\n",
        "T = Text(tokens)\n",
        "\n",
        "print(\"Analyzing:\", s1)\n",
        "\n",
        "# --- Concordance search ---\n",
        "search_term = \"economy\"\n",
        "print(f\"\\nThe word '{search_term}' appears in these sentences:\\n\")\n",
        "T.concordance(search_term, width=70, lines=12)\n",
        "\n",
        "# --- Similar words ---\n",
        "print(f\"\\nThe word '{search_term}' is used in similar contexts as:\\n\")\n",
        "T.similar(search_term)\n",
        "\n",
        "# --- Dispersion plot ---\n",
        "print(\"\\nNow plotting keyword positions across the speech...\\n\")\n",
        "T.dispersion_plot([\"economy\", \"economic\", \"immigration\", \"immigrant\", \"war\", \"freedom\", \"liberty\"])\n"
      ]
    },
    {
      "cell_type": "markdown",
      "source": [
        "## Combining `similar()` with dispersion plot"
      ],
      "metadata": {
        "id": "8SpBOXG7DfsV"
      },
      "id": "8SpBOXG7DfsV"
    },
    {
      "cell_type": "code",
      "source": [
        "from nltk.tokenize import word_tokenize\n",
        "from nltk.text import Text\n",
        "\n",
        "raw = inaugural.raw(s1)  # example\n",
        "tokens = [w.lower() for w in word_tokenize(raw)]\n",
        "T = Text(tokens)\n",
        "\n",
        "keyword = \"economy\"\n",
        "\n",
        "# Step 1: Get similar words programmatically\n",
        "similar_words = T.similar(keyword, num=10)  # <- prints, but doesn’t return\n",
        "\n",
        "# Trick: we can rerun it with a workaround\n",
        "from io import StringIO\n",
        "import sys\n",
        "\n",
        "# Redirect stdout to capture the printed output\n",
        "old_stdout = sys.stdout\n",
        "sys.stdout = mystdout = StringIO()\n",
        "T.similar(keyword, num=10)\n",
        "sys.stdout = old_stdout\n",
        "\n",
        "# Step 2: clean captured output into a list\n",
        "similar_list = mystdout.getvalue().split()\n",
        "\n",
        "# Step 3: combine with original keyword(s)\n",
        "all_terms = [keyword] + similar_list\n",
        "\n",
        "# Step 4: plot them\n",
        "T.dispersion_plot(all_terms)\n"
      ],
      "metadata": {
        "colab": {
          "base_uri": "https://localhost:8080/",
          "height": 490
        },
        "id": "VeNvs0fZDMLH",
        "outputId": "a91fe5c4-dcaf-4d2f-a2ea-8d0102c0c007"
      },
      "id": "VeNvs0fZDMLH",
      "execution_count": 45,
      "outputs": [
        {
          "output_type": "stream",
          "name": "stdout",
          "text": [
            "nation spirit journey government\n"
          ]
        },
        {
          "output_type": "display_data",
          "data": {
            "text/plain": [
              "<Figure size 640x480 with 1 Axes>"
            ],
            "image/png": "[encoded data removed]"
          },
          "metadata": {}
        }
      ]
    },
    {
      "cell_type": "markdown",
      "id": "8f642539",
      "metadata": {
        "id": "8f642539"
      },
      "source": [
        "### 2) A fast, reusable preprocessing pipeline  \n",
        "\n",
        "**Goal:** Take messy, raw text (like a speech, policy report, or set of news articles) and turn it into a clean list of meaningful words we can actually count, compare, and analyze.  \n",
        "\n",
        "**Steps:**  \n",
        "1. **Tokenize & normalize** → split text into individual words, make everything lowercase, and keep only letters/numbers.  \n",
        "   *Why it matters:* Ensures consistency so “Policy,” “policy,” and “POLICY” are all treated as the same word.  \n",
        "\n",
        "2. **Remove stopwords** → drop very common filler words like *the, and, of*.  \n",
        "   *Why it matters:* These words don’t add meaning to policy analysis — removing them lets us see the actual issues and themes (e.g., “immigration,” “education,” “climate”).  \n",
        "\n",
        "3. **POS-tag once** → label each word as Noun, Verb, Adjective, or Adverb.  \n",
        "   *Why it matters:* Helps us understand the *role* of a word. Example: “run” as a *verb* (to run a program) vs. “run” as a *noun* (an election run). This distinction matters in political texts.  \n",
        "\n",
        "4. **Lemmatize** → reduce words to their base form (e.g., “policies” → “policy,” “running” → “run”).  \n",
        "   *Why it matters:* Lets us group variations of the same concept together. For example, “migrants,” “migration,” and “migratory” can all be normalized for cleaner analysis.  \n",
        "\n",
        "👉 **Why this pipeline matters for public policy :**  \n",
        "Think of it as turning noisy political language into *structured evidence*. With preprocessing, you can:  \n",
        "- Compare how often “immigration” appears in one president’s speeches vs. another’s.  \n",
        "- Track whether economic terms (e.g., “jobs,” “growth,” “markets”) spike after a recession.  \n",
        "- Map the framing of an issue — are words like “freedom” or “security” clustered around “war”?  \n",
        "\n",
        "**Efficiency tip:** We tag the whole text once (instead of tagging inside a loop). This speeds things up and avoids redundant work, which is crucial when working with large policy datasets.  \n"
      ]
    },
    {
      "cell_type": "markdown",
      "source": [
        "### Key Libraries for Text Preprocessing (Policy Applications)\n",
        "\n",
        "| Import | What It Does | Policy Example |\n",
        "|--------|--------------|----------------|\n",
        "| `import re` | Python’s **regular expressions** for finding text patterns. | Extract all years (e.g., 1990–2025) from legislation or reports. |\n",
        "| `stopwords` (from `nltk.corpus`) | Pre-built list of common filler words (*the, and, of*). | Remove noise so you can focus on terms like *climate*, *jobs*, *security*. |\n",
        "| `wordnet` (from `nltk.corpus`) | Large lexical database grouping words into synonym sets (*synsets*). | Link words like *immigrant* and *migrant* to analyze debates more accurately. |\n",
        "| `WordNetLemmatizer` (from `nltk.stem`) | Reduces words to their **base form**. | Treat *policies*, *policy*, and *policy-making* as connected. |\n",
        "| `pos_tag` (from `nltk`) | Tags each word as noun, verb, adjective, or adverb. | Distinguish *tax* as a **noun** (“raise a tax”) vs. **verb** (“to tax citizens”). |\n",
        "| `FreqDist` (from `nltk`) | Counts word frequencies and creates quick plots. | See which terms dominate an inaugural address (*freedom* vs. *security*). |\n"
      ],
      "metadata": {
        "id": "pnhRt0L3X1Qs"
      },
      "id": "pnhRt0L3X1Qs"
    },
    {
      "cell_type": "code",
      "execution_count": null,
      "id": "6240b468",
      "metadata": {
        "id": "6240b468",
        "colab": {
          "base_uri": "https://localhost:8080/"
        },
        "outputId": "98670209-327e-403c-cd4b-8202df4a94c8"
      },
      "outputs": [
        {
          "output_type": "stream",
          "name": "stdout",
          "text": [
            "Speech: 2025-Trump.txt\n",
            "Counts -> toks: 2938 | no-stop: 1422 | clean: 1422\n",
            "Top 10 (clean): [('thank', 22), ('america', 21), ('nation', 20), ('american', 19), ('country', 17), ('great', 16), ('government', 11), ('state', 10), ('world', 10), ('today', 10)]\n"
          ]
        }
      ],
      "source": [
        "import re\n",
        "import nltk\n",
        "from nltk.corpus import stopwords, wordnet\n",
        "from nltk.stem import WordNetLemmatizer\n",
        "from nltk import pos_tag, FreqDist\n",
        "from nltk.tokenize import RegexpTokenizer\n",
        "\n",
        "def wordnet_pos(tag):\n",
        "    return {\"J\": wordnet.ADJ, \"N\": wordnet.NOUN, \"V\": wordnet.VERB, \"R\": wordnet.ADV}.get(tag[0], wordnet.NOUN)\n",
        "\n",
        "# 1) Tokenize & normalize (safer)\n",
        "def tokenize_norm(text):\n",
        "    tok = RegexpTokenizer(r\"[A-Za-z0-9]+\")  # keeps alphanumeric runs, drops punctuation\n",
        "    return [t.lower() for t in tok.tokenize(text)]\n",
        "\n",
        "# 2) Remove stopwords\n",
        "def remove_stopwords(toks):\n",
        "    stops = set(stopwords.words(\"english\"))\n",
        "    return [t for t in toks if t not in stops]\n",
        "\n",
        "# 3–4) POS-tag once, then lemmatize\n",
        "def pos_lemmatize(toks):\n",
        "    tags = pos_tag(toks)\n",
        "    lem = WordNetLemmatizer()\n",
        "    return [lem.lemmatize(t, wordnet_pos(tag)) for t, tag in tags]\n",
        "\n",
        "def run_pipeline(text):\n",
        "    toks = tokenize_norm(text)\n",
        "    toks_nostop = remove_stopwords(toks)\n",
        "    clean = pos_lemmatize(toks_nostop)\n",
        "    return toks, toks_nostop, clean\n",
        "\n",
        "# --- Sanity test on an inaugural speech ---\n",
        "from nltk.corpus import inaugural\n",
        "s1 = inaugural.fileids()[-1]\n",
        "raw = inaugural.raw(s1)\n",
        "\n",
        "toks, toks_nostop, clean = run_pipeline(raw)\n",
        "print(\"Speech:\", s1)\n",
        "print(\"Counts -> toks:\", len(toks), \"| no-stop:\", len(toks_nostop), \"| clean:\", len(clean))\n",
        "print(\"Top 10 (clean):\", FreqDist(clean).most_common(10))\n"
      ]
    },
    {
      "cell_type": "markdown",
      "id": "f2bf1916",
      "metadata": {
        "id": "f2bf1916"
      },
      "source": [
        "### Run the pipeline on one speech & get a quick report\n",
        "**What you’ll see:**\n",
        "- Token counts before/after stopword removal\n",
        "- Number of unique cleaned tokens\n",
        "- Top 20 most frequent meaningful tokens"
      ]
    },
    {
      "cell_type": "code",
      "execution_count": null,
      "id": "84fe67ef",
      "metadata": {
        "colab": {
          "base_uri": "https://localhost:8080/"
        },
        "id": "84fe67ef",
        "outputId": "97485e5d-0d03-4284-b0e4-a1b560b97c84"
      },
      "outputs": [
        {
          "output_type": "stream",
          "name": "stdout",
          "text": [
            "Speech: 2009-Obama.txt\n",
            "Counts -> toks: 2412 | no-stop: 1166 | clean: 1166\n",
            "\n",
            "Top 10 most common words (clean):\n",
            "\n",
            "         u   23\n",
            "    nation   15\n",
            "       new   11\n",
            "   america   10\n",
            "     every   8\n",
            "    people   8\n",
            "      must   8\n",
            "generation   8\n",
            "      work   8\n",
            "      less   7\n"
          ]
        }
      ],
      "source": [
        "# Choose a speech\n",
        "s1 = fileids[-5]  # pick a specific fileid\n",
        "raw = inaugural.raw(s1)\n",
        "\n",
        "toks, toks_nostop, clean = run_pipeline(raw) #Take my raw text, send it through the pipeline, and give me back three versions (toks, toks_nostop, clean)\n",
        "print(\"Speech:\", s1)\n",
        "print(\"Counts -> toks:\", len(toks), \"| no-stop:\", len(toks_nostop), \"| clean:\", len(clean))\n",
        "\n",
        "fdist = FreqDist(clean)\n",
        "print(\"\\nTop 10 most common words (clean):\\n\")\n",
        "\n",
        "for word, count in fdist.most_common(10):\n",
        "    print(f\"{word:>10}   {count}\")\n"
      ]
    },
    {
      "cell_type": "markdown",
      "id": "8c89f023",
      "metadata": {
        "id": "8c89f023"
      },
      "source": [
        "### Lexical diversity on a fixed slice (for fair comparisons)\n",
        "\n",
        "**Why fixed slice?** Longer texts naturally introduce more unique words just because there’s more material. To compare fairly, we look at the first *N* tokens of each text (e.g., 2,000).  \n",
        "\n",
        "**Why it matters for policy analysis:** Lexical diversity is a proxy for **how wide a speaker’s or author’s vocabulary is in a given setting**. In a policy context, this can reveal patterns such as:  \n",
        "- **Complexity vs. accessibility:** A President with low lexical diversity in an inaugural address might be aiming for broad, clear communication. Higher diversity could suggest more technical, elite-oriented language.  \n",
        "- **Shifts over time:** Comparing lexical diversity across decades of Congressional debates can show whether policymaking language is becoming more repetitive (sound-bite driven) or more nuanced.  \n",
        "- **Different audiences:** A think tank’s report to policymakers may have higher diversity than its press release, signaling a difference in how ideas are framed for experts vs. the public.  \n",
        "- **Equity and inclusion:** Lexical diversity in speeches about social policy could indicate whether a wide range of concepts and stakeholders are being represented—or whether the discourse is narrow.  \n"
      ]
    },
    {
      "cell_type": "code",
      "execution_count": null,
      "id": "d04bc53a",
      "metadata": {
        "id": "d04bc53a",
        "colab": {
          "base_uri": "https://localhost:8080/"
        },
        "outputId": "b58c86c7-85aa-4354-adc9-159b54a97d6f"
      },
      "outputs": [
        {
          "output_type": "execute_result",
          "data": {
            "text/plain": [
              "0.6217838765008576"
            ]
          },
          "metadata": {},
          "execution_count": 21
        }
      ],
      "source": [
        "def lexical_diversity(tokens, n=2000):\n",
        "    # Use first n tokens (or all if shorter). Higher = more variety of vocabulary.\n",
        "    slice_ = tokens[:n] if len(tokens) >= n else tokens\n",
        "    return len(set(slice_)) / max(1, len(slice_))\n",
        "\n",
        "lexical_diversity(clean, n=2000)"
      ]
    },
    {
      "cell_type": "markdown",
      "id": "b373fff5",
      "metadata": {
        "id": "b373fff5"
      },
      "source": [
        "## 3) Policy mini‑comparison — pick TWO speeches\n",
        "**Task:** Compare two inaugural addresses on:\n",
        "1) Top terms (lemmatized)\n",
        "2) Lexical diversity on a fixed slice (e.g., 2,000 tokens)\n",
        "3) (Next cells) Simple charts & keyword dispersion"
      ]
    },
    {
      "cell_type": "code",
      "execution_count": null,
      "id": "f6ae9319",
      "metadata": {
        "id": "f6ae9319",
        "colab": {
          "base_uri": "https://localhost:8080/"
        },
        "outputId": "637c9c6b-841e-4520-ce24-862dc2e4df75"
      },
      "outputs": [
        {
          "output_type": "stream",
          "name": "stdout",
          "text": [
            "\n",
            "Top terms — 2021-Biden.txt\n",
            "         u   26\n",
            "   america   21\n",
            "  american   15\n",
            "       one   15\n",
            "    nation   15\n",
            "       day   13\n",
            " democracy   11\n",
            "    people   11\n",
            "     today   10\n",
            "      much   10\n",
            "\n",
            "Top terms — 2025-Trump.txt\n",
            "     thank   22\n",
            "   america   21\n",
            "    nation   20\n",
            "  american   19\n",
            "   country   17\n",
            "     great   16\n",
            "government   11\n",
            "     state   10\n",
            "     world   10\n",
            "     today   10\n",
            "\n",
            "Lexical diversity (slice 2000):\n",
            " 2021-Biden.txt   0.4950\n",
            " 2025-Trump.txt   0.5309\n"
          ]
        }
      ],
      "source": [
        "# You can change these IDs. Use 'fileids' printed earlier to choose.\n",
        "s1, s2 = fileids[-2], fileids[-1]\n",
        "raw1, raw2 = inaugural.raw(s1), inaugural.raw(s2)\n",
        "\n",
        "# Clean tokens for both speeches.\n",
        "c1 = run_pipeline(raw1)[2]\n",
        "c2 = run_pipeline(raw2)[2]\n",
        "\n",
        "# Frequency distributions (counts of words)\n",
        "fd1, fd2 = FreqDist(c1), FreqDist(c2)\n",
        "top1 = fd1.most_common(25)\n",
        "top2 = fd2.most_common(25)\n",
        "\n",
        "print(f\"\\nTop terms — {s1}\")\n",
        "for word, count in top1[:10]:\n",
        "    print(f\"{word:>10}   {count}\")\n",
        "\n",
        "print(f\"\\nTop terms — {s2}\")\n",
        "for word, count in top2[:10]:\n",
        "    print(f\"{word:>10}   {count}\")\n",
        "\n",
        "print(\"\\nLexical diversity (slice 2000):\")\n",
        "print(f\"{s1:>15}   {lexical_diversity(c1, 2000):.4f}\")\n",
        "print(f\"{s2:>15}   {lexical_diversity(c2, 2000):.4f}\")\n"
      ]
    },
    {
      "cell_type": "markdown",
      "id": "6d57d403",
      "metadata": {
        "id": "6d57d403"
      },
      "source": [
        "### Visualize top terms (bar charts)\n",
        "**Tip:** Keep labels small (k=15) so the chart is readable."
      ]
    },
    {
      "cell_type": "code",
      "execution_count": null,
      "id": "5d669cbf",
      "metadata": {
        "id": "5d669cbf",
        "colab": {
          "base_uri": "https://localhost:8080/",
          "height": 1000
        },
        "outputId": "67dcaeb1-95f4-4af5-f8ac-cb16388f1e6b"
      },
      "outputs": [
        {
          "output_type": "display_data",
          "data": {
            "text/html": [
              "<html>\n",
              "<head><meta charset=\"utf-8\" /></head>\n",
              "<body>\n",
              "    <div>            <script src=\"https://cdnjs.cloudflare.com/ajax/libs/mathjax/2.7.5/MathJax.js?config=TeX-AMS-MML_SVG\"></script><script type=\"text/javascript\">if (window.MathJax && window.MathJax.Hub && window.MathJax.Hub.Config) {window.MathJax.Hub.Config({SVG: {font: \"STIX-Web\"}});}</script>                <script type=\"text/javascript\">window.PlotlyConfig = {MathJaxConfig: 'local'};</script>\n",
              "        <script charset=\"utf-8\" src=\"https://cdn.plot.ly/plotly-2.35.2.min.js\"></script>                <div id=\"673f34d8-f500-44bc-825a-d1b5a1f63606\" class=\"plotly-graph-div\" style=\"height:525px; width:100%;\"></div>            <script type=\"text/javascript\">                                    window.PLOTLYENV=window.PLOTLYENV || {};                                    if (document.getElementById(\"673f34d8-f500-44bc-825a-d1b5a1f63606\")) {                    Plotly.newPlot(                        \"673f34d8-f500-44bc-825a-d1b5a1f63606\",                        [{\"alignmentgroup\":\"True\",\"hovertemplate\":\"Word=%{x}\\u003cbr\\u003eFrequency=%{y}\\u003cextra\\u003e\\u003c\\u002fextra\\u003e\",\"legendgroup\":\"\",\"marker\":{\"color\":\"#636efa\",\"pattern\":{\"shape\":\"\"}},\"name\":\"\",\"offsetgroup\":\"\",\"orientation\":\"v\",\"showlegend\":false,\"textposition\":\"auto\",\"x\":[\"u\",\"america\",\"american\",\"one\",\"nation\",\"day\",\"democracy\",\"people\",\"today\",\"much\",\"know\",\"story\",\"another\",\"stand\",\"history\"],\"xaxis\":\"x\",\"y\":[26,21,15,15,15,13,11,11,10,10,9,9,9,9,8],\"yaxis\":\"y\",\"type\":\"bar\"}],                        {\"template\":{\"data\":{\"histogram2dcontour\":[{\"type\":\"histogram2dcontour\",\"colorbar\":{\"outlinewidth\":0,\"ticks\":\"\"},\"colorscale\":[[0.0,\"#0d0887\"],[0.1111111111111111,\"#46039f\"],[0.2222222222222222,\"#7201a8\"],[0.3333333333333333,\"#9c179e\"],[0.4444444444444444,\"#bd3786\"],[0.5555555555555556,\"#d8576b\"],[0.6666666666666666,\"#ed7953\"],[0.7777777777777778,\"#fb9f3a\"],[0.8888888888888888,\"#fdca26\"],[1.0,\"#f0f921\"]]}],\"choropleth\":[{\"type\":\"choropleth\",\"colorbar\":{\"outlinewidth\":0,\"ticks\":\"\"}}],\"histogram2d\":[{\"type\":\"histogram2d\",\"colorbar\":{\"outlinewidth\":0,\"ticks\":\"\"},\"colorscale\":[[0.0,\"#0d0887\"],[0.1111111111111111,\"#46039f\"],[0.2222222222222222,\"#7201a8\"],[0.3333333333333333,\"#9c179e\"],[0.4444444444444444,\"#bd3786\"],[0.5555555555555556,\"#d8576b\"],[0.6666666666666666,\"#ed7953\"],[0.7777777777777778,\"#fb9f3a\"],[0.8888888888888888,\"#fdca26\"],[1.0,\"#f0f921\"]]}],\"heatmap\":[{\"type\":\"heatmap\",\"colorbar\":{\"outlinewidth\":0,\"ticks\":\"\"},\"colorscale\":[[0.0,\"#0d0887\"],[0.1111111111111111,\"#46039f\"],[0.2222222222222222,\"#7201a8\"],[0.3333333333333333,\"#9c179e\"],[0.4444444444444444,\"#bd3786\"],[0.5555555555555556,\"#d8576b\"],[0.6666666666666666,\"#ed7953\"],[0.7777777777777778,\"#fb9f3a\"],[0.8888888888888888,\"#fdca26\"],[1.0,\"#f0f921\"]]}],\"heatmapgl\":[{\"type\":\"heatmapgl\",\"colorbar\":{\"outlinewidth\":0,\"ticks\":\"\"},\"colorscale\":[[0.0,\"#0d0887\"],[0.1111111111111111,\"#46039f\"],[0.2222222222222222,\"#7201a8\"],[0.3333333333333333,\"#9c179e\"],[0.4444444444444444,\"#bd3786\"],[0.5555555555555556,\"#d8576b\"],[0.6666666666666666,\"#ed7953\"],[0.7777777777777778,\"#fb9f3a\"],[0.8888888888888888,\"#fdca26\"],[1.0,\"#f0f921\"]]}],\"contourcarpet\":[{\"type\":\"contourcarpet\",\"colorbar\":{\"outlinewidth\":0,\"ticks\":\"\"}}],\"contour\":[{\"type\":\"contour\",\"colorbar\":{\"outlinewidth\":0,\"ticks\":\"\"},\"colorscale\":[[0.0,\"#0d0887\"],[0.1111111111111111,\"#46039f\"],[0.2222222222222222,\"#7201a8\"],[0.3333333333333333,\"#9c179e\"],[0.4444444444444444,\"#bd3786\"],[0.5555555555555556,\"#d8576b\"],[0.6666666666666666,\"#ed7953\"],[0.7777777777777778,\"#fb9f3a\"],[0.8888888888888888,\"#fdca26\"],[1.0,\"#f0f921\"]]}],\"surface\":[{\"type\":\"surface\",\"colorbar\":{\"outlinewidth\":0,\"ticks\":\"\"},\"colorscale\":[[0.0,\"#0d0887\"],[0.1111111111111111,\"#46039f\"],[0.2222222222222222,\"#7201a8\"],[0.3333333333333333,\"#9c179e\"],[0.4444444444444444,\"#bd3786\"],[0.5555555555555556,\"#d8576b\"],[0.6666666666666666,\"#ed7953\"],[0.7777777777777778,\"#fb9f3a\"],[0.8888888888888888,\"#fdca26\"],[1.0,\"#f0f921\"]]}],\"mesh3d\":[{\"type\":\"mesh3d\",\"colorbar\":{\"outlinewidth\":0,\"ticks\":\"\"}}],\"scatter\":[{\"fillpattern\":{\"fillmode\":\"overlay\",\"size\":10,\"solidity\":0.2},\"type\":\"scatter\"}],\"parcoords\":[{\"type\":\"parcoords\",\"line\":{\"colorbar\":{\"outlinewidth\":0,\"ticks\":\"\"}}}],\"scatterpolargl\":[{\"type\":\"scatterpolargl\",\"marker\":{\"colorbar\":{\"outlinewidth\":0,\"ticks\":\"\"}}}],\"bar\":[{\"error_x\":{\"color\":\"#2a3f5f\"},\"error_y\":{\"color\":\"#2a3f5f\"},\"marker\":{\"line\":{\"color\":\"#E5ECF6\",\"width\":0.5},\"pattern\":{\"fillmode\":\"overlay\",\"size\":10,\"solidity\":0.2}},\"type\":\"bar\"}],\"scattergeo\":[{\"type\":\"scattergeo\",\"marker\":{\"colorbar\":{\"outlinewidth\":0,\"ticks\":\"\"}}}],\"scatterpolar\":[{\"type\":\"scatterpolar\",\"marker\":{\"colorbar\":{\"outlinewidth\":0,\"ticks\":\"\"}}}],\"histogram\":[{\"marker\":{\"pattern\":{\"fillmode\":\"overlay\",\"size\":10,\"solidity\":0.2}},\"type\":\"histogram\"}],\"scattergl\":[{\"type\":\"scattergl\",\"marker\":{\"colorbar\":{\"outlinewidth\":0,\"ticks\":\"\"}}}],\"scatter3d\":[{\"type\":\"scatter3d\",\"line\":{\"colorbar\":{\"outlinewidth\":0,\"ticks\":\"\"}},\"marker\":{\"colorbar\":{\"outlinewidth\":0,\"ticks\":\"\"}}}],\"scattermapbox\":[{\"type\":\"scattermapbox\",\"marker\":{\"colorbar\":{\"outlinewidth\":0,\"ticks\":\"\"}}}],\"scatterternary\":[{\"type\":\"scatterternary\",\"marker\":{\"colorbar\":{\"outlinewidth\":0,\"ticks\":\"\"}}}],\"scattercarpet\":[{\"type\":\"scattercarpet\",\"marker\":{\"colorbar\":{\"outlinewidth\":0,\"ticks\":\"\"}}}],\"carpet\":[{\"aaxis\":{\"endlinecolor\":\"#2a3f5f\",\"gridcolor\":\"white\",\"linecolor\":\"white\",\"minorgridcolor\":\"white\",\"startlinecolor\":\"#2a3f5f\"},\"baxis\":{\"endlinecolor\":\"#2a3f5f\",\"gridcolor\":\"white\",\"linecolor\":\"white\",\"minorgridcolor\":\"white\",\"startlinecolor\":\"#2a3f5f\"},\"type\":\"carpet\"}],\"table\":[{\"cells\":{\"fill\":{\"color\":\"#EBF0F8\"},\"line\":{\"color\":\"white\"}},\"header\":{\"fill\":{\"color\":\"#C8D4E3\"},\"line\":{\"color\":\"white\"}},\"type\":\"table\"}],\"barpolar\":[{\"marker\":{\"line\":{\"color\":\"#E5ECF6\",\"width\":0.5},\"pattern\":{\"fillmode\":\"overlay\",\"size\":10,\"solidity\":0.2}},\"type\":\"barpolar\"}],\"pie\":[{\"automargin\":true,\"type\":\"pie\"}]},\"layout\":{\"autotypenumbers\":\"strict\",\"colorway\":[\"#636efa\",\"#EF553B\",\"#00cc96\",\"#ab63fa\",\"#FFA15A\",\"#19d3f3\",\"#FF6692\",\"#B6E880\",\"#FF97FF\",\"#FECB52\"],\"font\":{\"color\":\"#2a3f5f\"},\"hovermode\":\"closest\",\"hoverlabel\":{\"align\":\"left\"},\"paper_bgcolor\":\"white\",\"plot_bgcolor\":\"#E5ECF6\",\"polar\":{\"bgcolor\":\"#E5ECF6\",\"angularaxis\":{\"gridcolor\":\"white\",\"linecolor\":\"white\",\"ticks\":\"\"},\"radialaxis\":{\"gridcolor\":\"white\",\"linecolor\":\"white\",\"ticks\":\"\"}},\"ternary\":{\"bgcolor\":\"#E5ECF6\",\"aaxis\":{\"gridcolor\":\"white\",\"linecolor\":\"white\",\"ticks\":\"\"},\"baxis\":{\"gridcolor\":\"white\",\"linecolor\":\"white\",\"ticks\":\"\"},\"caxis\":{\"gridcolor\":\"white\",\"linecolor\":\"white\",\"ticks\":\"\"}},\"coloraxis\":{\"colorbar\":{\"outlinewidth\":0,\"ticks\":\"\"}},\"colorscale\":{\"sequential\":[[0.0,\"#0d0887\"],[0.1111111111111111,\"#46039f\"],[0.2222222222222222,\"#7201a8\"],[0.3333333333333333,\"#9c179e\"],[0.4444444444444444,\"#bd3786\"],[0.5555555555555556,\"#d8576b\"],[0.6666666666666666,\"#ed7953\"],[0.7777777777777778,\"#fb9f3a\"],[0.8888888888888888,\"#fdca26\"],[1.0,\"#f0f921\"]],\"sequentialminus\":[[0.0,\"#0d0887\"],[0.1111111111111111,\"#46039f\"],[0.2222222222222222,\"#7201a8\"],[0.3333333333333333,\"#9c179e\"],[0.4444444444444444,\"#bd3786\"],[0.5555555555555556,\"#d8576b\"],[0.6666666666666666,\"#ed7953\"],[0.7777777777777778,\"#fb9f3a\"],[0.8888888888888888,\"#fdca26\"],[1.0,\"#f0f921\"]],\"diverging\":[[0,\"#8e0152\"],[0.1,\"#c51b7d\"],[0.2,\"#de77ae\"],[0.3,\"#f1b6da\"],[0.4,\"#fde0ef\"],[0.5,\"#f7f7f7\"],[0.6,\"#e6f5d0\"],[0.7,\"#b8e186\"],[0.8,\"#7fbc41\"],[0.9,\"#4d9221\"],[1,\"#276419\"]]},\"xaxis\":{\"gridcolor\":\"white\",\"linecolor\":\"white\",\"ticks\":\"\",\"title\":{\"standoff\":15},\"zerolinecolor\":\"white\",\"automargin\":true,\"zerolinewidth\":2},\"yaxis\":{\"gridcolor\":\"white\",\"linecolor\":\"white\",\"ticks\":\"\",\"title\":{\"standoff\":15},\"zerolinecolor\":\"white\",\"automargin\":true,\"zerolinewidth\":2},\"scene\":{\"xaxis\":{\"backgroundcolor\":\"#E5ECF6\",\"gridcolor\":\"white\",\"linecolor\":\"white\",\"showbackground\":true,\"ticks\":\"\",\"zerolinecolor\":\"white\",\"gridwidth\":2},\"yaxis\":{\"backgroundcolor\":\"#E5ECF6\",\"gridcolor\":\"white\",\"linecolor\":\"white\",\"showbackground\":true,\"ticks\":\"\",\"zerolinecolor\":\"white\",\"gridwidth\":2},\"zaxis\":{\"backgroundcolor\":\"#E5ECF6\",\"gridcolor\":\"white\",\"linecolor\":\"white\",\"showbackground\":true,\"ticks\":\"\",\"zerolinecolor\":\"white\",\"gridwidth\":2}},\"shapedefaults\":{\"line\":{\"color\":\"#2a3f5f\"}},\"annotationdefaults\":{\"arrowcolor\":\"#2a3f5f\",\"arrowhead\":0,\"arrowwidth\":1},\"geo\":{\"bgcolor\":\"white\",\"landcolor\":\"#E5ECF6\",\"subunitcolor\":\"white\",\"showland\":true,\"showlakes\":true,\"lakecolor\":\"white\"},\"title\":{\"x\":0.05},\"mapbox\":{\"style\":\"light\"}}},\"xaxis\":{\"anchor\":\"y\",\"domain\":[0.0,1.0],\"title\":{\"text\":\"Word\"},\"tickangle\":-45},\"yaxis\":{\"anchor\":\"x\",\"domain\":[0.0,1.0],\"title\":{\"text\":\"Frequency\"}},\"legend\":{\"tracegroupgap\":0},\"title\":{\"text\":\"Top terms — 2021-Biden.txt\"},\"barmode\":\"relative\"},                        {\"responsive\": true}                    ).then(function(){\n",
              "                            \n",
              "var gd = document.getElementById('673f34d8-f500-44bc-825a-d1b5a1f63606');\n",
              "var x = new MutationObserver(function (mutations, observer) {{\n",
              "        var display = window.getComputedStyle(gd).display;\n",
              "        if (!display || display === 'none') {{\n",
              "            console.log([gd, 'removed!']);\n",
              "            Plotly.purge(gd);\n",
              "            observer.disconnect();\n",
              "        }}\n",
              "}});\n",
              "\n",
              "// Listen for the removal of the full notebook cells\n",
              "var notebookContainer = gd.closest('#notebook-container');\n",
              "if (notebookContainer) {{\n",
              "    x.observe(notebookContainer, {childList: true});\n",
              "}}\n",
              "\n",
              "// Listen for the clearing of the current output cell\n",
              "var outputEl = gd.closest('.output');\n",
              "if (outputEl) {{\n",
              "    x.observe(outputEl, {childList: true});\n",
              "}}\n",
              "\n",
              "                        })                };                            </script>        </div>\n",
              "</body>\n",
              "</html>"
            ]
          },
          "metadata": {}
        },
        {
          "output_type": "display_data",
          "data": {
            "text/html": [
              "<html>\n",
              "<head><meta charset=\"utf-8\" /></head>\n",
              "<body>\n",
              "    <div>            <script src=\"https://cdnjs.cloudflare.com/ajax/libs/mathjax/2.7.5/MathJax.js?config=TeX-AMS-MML_SVG\"></script><script type=\"text/javascript\">if (window.MathJax && window.MathJax.Hub && window.MathJax.Hub.Config) {window.MathJax.Hub.Config({SVG: {font: \"STIX-Web\"}});}</script>                <script type=\"text/javascript\">window.PlotlyConfig = {MathJaxConfig: 'local'};</script>\n",
              "        <script charset=\"utf-8\" src=\"https://cdn.plot.ly/plotly-2.35.2.min.js\"></script>                <div id=\"6d6347b6-ef0f-49ee-8e51-21eff52156ab\" class=\"plotly-graph-div\" style=\"height:525px; width:100%;\"></div>            <script type=\"text/javascript\">                                    window.PLOTLYENV=window.PLOTLYENV || {};                                    if (document.getElementById(\"6d6347b6-ef0f-49ee-8e51-21eff52156ab\")) {                    Plotly.newPlot(                        \"6d6347b6-ef0f-49ee-8e51-21eff52156ab\",                        [{\"alignmentgroup\":\"True\",\"hovertemplate\":\"Word=%{x}\\u003cbr\\u003eFrequency=%{y}\\u003cextra\\u003e\\u003c\\u002fextra\\u003e\",\"legendgroup\":\"\",\"marker\":{\"color\":\"#636efa\",\"pattern\":{\"shape\":\"\"}},\"name\":\"\",\"offsetgroup\":\"\",\"orientation\":\"v\",\"showlegend\":false,\"textposition\":\"auto\",\"x\":[\"thank\",\"america\",\"nation\",\"american\",\"country\",\"great\",\"government\",\"state\",\"world\",\"today\",\"back\",\"president\",\"every\",\"never\",\"year\"],\"xaxis\":\"x\",\"y\":[22,21,20,19,17,16,11,10,10,10,10,9,9,9,9],\"yaxis\":\"y\",\"type\":\"bar\"}],                        {\"template\":{\"data\":{\"histogram2dcontour\":[{\"type\":\"histogram2dcontour\",\"colorbar\":{\"outlinewidth\":0,\"ticks\":\"\"},\"colorscale\":[[0.0,\"#0d0887\"],[0.1111111111111111,\"#46039f\"],[0.2222222222222222,\"#7201a8\"],[0.3333333333333333,\"#9c179e\"],[0.4444444444444444,\"#bd3786\"],[0.5555555555555556,\"#d8576b\"],[0.6666666666666666,\"#ed7953\"],[0.7777777777777778,\"#fb9f3a\"],[0.8888888888888888,\"#fdca26\"],[1.0,\"#f0f921\"]]}],\"choropleth\":[{\"type\":\"choropleth\",\"colorbar\":{\"outlinewidth\":0,\"ticks\":\"\"}}],\"histogram2d\":[{\"type\":\"histogram2d\",\"colorbar\":{\"outlinewidth\":0,\"ticks\":\"\"},\"colorscale\":[[0.0,\"#0d0887\"],[0.1111111111111111,\"#46039f\"],[0.2222222222222222,\"#7201a8\"],[0.3333333333333333,\"#9c179e\"],[0.4444444444444444,\"#bd3786\"],[0.5555555555555556,\"#d8576b\"],[0.6666666666666666,\"#ed7953\"],[0.7777777777777778,\"#fb9f3a\"],[0.8888888888888888,\"#fdca26\"],[1.0,\"#f0f921\"]]}],\"heatmap\":[{\"type\":\"heatmap\",\"colorbar\":{\"outlinewidth\":0,\"ticks\":\"\"},\"colorscale\":[[0.0,\"#0d0887\"],[0.1111111111111111,\"#46039f\"],[0.2222222222222222,\"#7201a8\"],[0.3333333333333333,\"#9c179e\"],[0.4444444444444444,\"#bd3786\"],[0.5555555555555556,\"#d8576b\"],[0.6666666666666666,\"#ed7953\"],[0.7777777777777778,\"#fb9f3a\"],[0.8888888888888888,\"#fdca26\"],[1.0,\"#f0f921\"]]}],\"heatmapgl\":[{\"type\":\"heatmapgl\",\"colorbar\":{\"outlinewidth\":0,\"ticks\":\"\"},\"colorscale\":[[0.0,\"#0d0887\"],[0.1111111111111111,\"#46039f\"],[0.2222222222222222,\"#7201a8\"],[0.3333333333333333,\"#9c179e\"],[0.4444444444444444,\"#bd3786\"],[0.5555555555555556,\"#d8576b\"],[0.6666666666666666,\"#ed7953\"],[0.7777777777777778,\"#fb9f3a\"],[0.8888888888888888,\"#fdca26\"],[1.0,\"#f0f921\"]]}],\"contourcarpet\":[{\"type\":\"contourcarpet\",\"colorbar\":{\"outlinewidth\":0,\"ticks\":\"\"}}],\"contour\":[{\"type\":\"contour\",\"colorbar\":{\"outlinewidth\":0,\"ticks\":\"\"},\"colorscale\":[[0.0,\"#0d0887\"],[0.1111111111111111,\"#46039f\"],[0.2222222222222222,\"#7201a8\"],[0.3333333333333333,\"#9c179e\"],[0.4444444444444444,\"#bd3786\"],[0.5555555555555556,\"#d8576b\"],[0.6666666666666666,\"#ed7953\"],[0.7777777777777778,\"#fb9f3a\"],[0.8888888888888888,\"#fdca26\"],[1.0,\"#f0f921\"]]}],\"surface\":[{\"type\":\"surface\",\"colorbar\":{\"outlinewidth\":0,\"ticks\":\"\"},\"colorscale\":[[0.0,\"#0d0887\"],[0.1111111111111111,\"#46039f\"],[0.2222222222222222,\"#7201a8\"],[0.3333333333333333,\"#9c179e\"],[0.4444444444444444,\"#bd3786\"],[0.5555555555555556,\"#d8576b\"],[0.6666666666666666,\"#ed7953\"],[0.7777777777777778,\"#fb9f3a\"],[0.8888888888888888,\"#fdca26\"],[1.0,\"#f0f921\"]]}],\"mesh3d\":[{\"type\":\"mesh3d\",\"colorbar\":{\"outlinewidth\":0,\"ticks\":\"\"}}],\"scatter\":[{\"fillpattern\":{\"fillmode\":\"overlay\",\"size\":10,\"solidity\":0.2},\"type\":\"scatter\"}],\"parcoords\":[{\"type\":\"parcoords\",\"line\":{\"colorbar\":{\"outlinewidth\":0,\"ticks\":\"\"}}}],\"scatterpolargl\":[{\"type\":\"scatterpolargl\",\"marker\":{\"colorbar\":{\"outlinewidth\":0,\"ticks\":\"\"}}}],\"bar\":[{\"error_x\":{\"color\":\"#2a3f5f\"},\"error_y\":{\"color\":\"#2a3f5f\"},\"marker\":{\"line\":{\"color\":\"#E5ECF6\",\"width\":0.5},\"pattern\":{\"fillmode\":\"overlay\",\"size\":10,\"solidity\":0.2}},\"type\":\"bar\"}],\"scattergeo\":[{\"type\":\"scattergeo\",\"marker\":{\"colorbar\":{\"outlinewidth\":0,\"ticks\":\"\"}}}],\"scatterpolar\":[{\"type\":\"scatterpolar\",\"marker\":{\"colorbar\":{\"outlinewidth\":0,\"ticks\":\"\"}}}],\"histogram\":[{\"marker\":{\"pattern\":{\"fillmode\":\"overlay\",\"size\":10,\"solidity\":0.2}},\"type\":\"histogram\"}],\"scattergl\":[{\"type\":\"scattergl\",\"marker\":{\"colorbar\":{\"outlinewidth\":0,\"ticks\":\"\"}}}],\"scatter3d\":[{\"type\":\"scatter3d\",\"line\":{\"colorbar\":{\"outlinewidth\":0,\"ticks\":\"\"}},\"marker\":{\"colorbar\":{\"outlinewidth\":0,\"ticks\":\"\"}}}],\"scattermapbox\":[{\"type\":\"scattermapbox\",\"marker\":{\"colorbar\":{\"outlinewidth\":0,\"ticks\":\"\"}}}],\"scatterternary\":[{\"type\":\"scatterternary\",\"marker\":{\"colorbar\":{\"outlinewidth\":0,\"ticks\":\"\"}}}],\"scattercarpet\":[{\"type\":\"scattercarpet\",\"marker\":{\"colorbar\":{\"outlinewidth\":0,\"ticks\":\"\"}}}],\"carpet\":[{\"aaxis\":{\"endlinecolor\":\"#2a3f5f\",\"gridcolor\":\"white\",\"linecolor\":\"white\",\"minorgridcolor\":\"white\",\"startlinecolor\":\"#2a3f5f\"},\"baxis\":{\"endlinecolor\":\"#2a3f5f\",\"gridcolor\":\"white\",\"linecolor\":\"white\",\"minorgridcolor\":\"white\",\"startlinecolor\":\"#2a3f5f\"},\"type\":\"carpet\"}],\"table\":[{\"cells\":{\"fill\":{\"color\":\"#EBF0F8\"},\"line\":{\"color\":\"white\"}},\"header\":{\"fill\":{\"color\":\"#C8D4E3\"},\"line\":{\"color\":\"white\"}},\"type\":\"table\"}],\"barpolar\":[{\"marker\":{\"line\":{\"color\":\"#E5ECF6\",\"width\":0.5},\"pattern\":{\"fillmode\":\"overlay\",\"size\":10,\"solidity\":0.2}},\"type\":\"barpolar\"}],\"pie\":[{\"automargin\":true,\"type\":\"pie\"}]},\"layout\":{\"autotypenumbers\":\"strict\",\"colorway\":[\"#636efa\",\"#EF553B\",\"#00cc96\",\"#ab63fa\",\"#FFA15A\",\"#19d3f3\",\"#FF6692\",\"#B6E880\",\"#FF97FF\",\"#FECB52\"],\"font\":{\"color\":\"#2a3f5f\"},\"hovermode\":\"closest\",\"hoverlabel\":{\"align\":\"left\"},\"paper_bgcolor\":\"white\",\"plot_bgcolor\":\"#E5ECF6\",\"polar\":{\"bgcolor\":\"#E5ECF6\",\"angularaxis\":{\"gridcolor\":\"white\",\"linecolor\":\"white\",\"ticks\":\"\"},\"radialaxis\":{\"gridcolor\":\"white\",\"linecolor\":\"white\",\"ticks\":\"\"}},\"ternary\":{\"bgcolor\":\"#E5ECF6\",\"aaxis\":{\"gridcolor\":\"white\",\"linecolor\":\"white\",\"ticks\":\"\"},\"baxis\":{\"gridcolor\":\"white\",\"linecolor\":\"white\",\"ticks\":\"\"},\"caxis\":{\"gridcolor\":\"white\",\"linecolor\":\"white\",\"ticks\":\"\"}},\"coloraxis\":{\"colorbar\":{\"outlinewidth\":0,\"ticks\":\"\"}},\"colorscale\":{\"sequential\":[[0.0,\"#0d0887\"],[0.1111111111111111,\"#46039f\"],[0.2222222222222222,\"#7201a8\"],[0.3333333333333333,\"#9c179e\"],[0.4444444444444444,\"#bd3786\"],[0.5555555555555556,\"#d8576b\"],[0.6666666666666666,\"#ed7953\"],[0.7777777777777778,\"#fb9f3a\"],[0.8888888888888888,\"#fdca26\"],[1.0,\"#f0f921\"]],\"sequentialminus\":[[0.0,\"#0d0887\"],[0.1111111111111111,\"#46039f\"],[0.2222222222222222,\"#7201a8\"],[0.3333333333333333,\"#9c179e\"],[0.4444444444444444,\"#bd3786\"],[0.5555555555555556,\"#d8576b\"],[0.6666666666666666,\"#ed7953\"],[0.7777777777777778,\"#fb9f3a\"],[0.8888888888888888,\"#fdca26\"],[1.0,\"#f0f921\"]],\"diverging\":[[0,\"#8e0152\"],[0.1,\"#c51b7d\"],[0.2,\"#de77ae\"],[0.3,\"#f1b6da\"],[0.4,\"#fde0ef\"],[0.5,\"#f7f7f7\"],[0.6,\"#e6f5d0\"],[0.7,\"#b8e186\"],[0.8,\"#7fbc41\"],[0.9,\"#4d9221\"],[1,\"#276419\"]]},\"xaxis\":{\"gridcolor\":\"white\",\"linecolor\":\"white\",\"ticks\":\"\",\"title\":{\"standoff\":15},\"zerolinecolor\":\"white\",\"automargin\":true,\"zerolinewidth\":2},\"yaxis\":{\"gridcolor\":\"white\",\"linecolor\":\"white\",\"ticks\":\"\",\"title\":{\"standoff\":15},\"zerolinecolor\":\"white\",\"automargin\":true,\"zerolinewidth\":2},\"scene\":{\"xaxis\":{\"backgroundcolor\":\"#E5ECF6\",\"gridcolor\":\"white\",\"linecolor\":\"white\",\"showbackground\":true,\"ticks\":\"\",\"zerolinecolor\":\"white\",\"gridwidth\":2},\"yaxis\":{\"backgroundcolor\":\"#E5ECF6\",\"gridcolor\":\"white\",\"linecolor\":\"white\",\"showbackground\":true,\"ticks\":\"\",\"zerolinecolor\":\"white\",\"gridwidth\":2},\"zaxis\":{\"backgroundcolor\":\"#E5ECF6\",\"gridcolor\":\"white\",\"linecolor\":\"white\",\"showbackground\":true,\"ticks\":\"\",\"zerolinecolor\":\"white\",\"gridwidth\":2}},\"shapedefaults\":{\"line\":{\"color\":\"#2a3f5f\"}},\"annotationdefaults\":{\"arrowcolor\":\"#2a3f5f\",\"arrowhead\":0,\"arrowwidth\":1},\"geo\":{\"bgcolor\":\"white\",\"landcolor\":\"#E5ECF6\",\"subunitcolor\":\"white\",\"showland\":true,\"showlakes\":true,\"lakecolor\":\"white\"},\"title\":{\"x\":0.05},\"mapbox\":{\"style\":\"light\"}}},\"xaxis\":{\"anchor\":\"y\",\"domain\":[0.0,1.0],\"title\":{\"text\":\"Word\"},\"tickangle\":-45},\"yaxis\":{\"anchor\":\"x\",\"domain\":[0.0,1.0],\"title\":{\"text\":\"Frequency\"}},\"legend\":{\"tracegroupgap\":0},\"title\":{\"text\":\"Top terms — 2025-Trump.txt\"},\"barmode\":\"relative\"},                        {\"responsive\": true}                    ).then(function(){\n",
              "                            \n",
              "var gd = document.getElementById('6d6347b6-ef0f-49ee-8e51-21eff52156ab');\n",
              "var x = new MutationObserver(function (mutations, observer) {{\n",
              "        var display = window.getComputedStyle(gd).display;\n",
              "        if (!display || display === 'none') {{\n",
              "            console.log([gd, 'removed!']);\n",
              "            Plotly.purge(gd);\n",
              "            observer.disconnect();\n",
              "        }}\n",
              "}});\n",
              "\n",
              "// Listen for the removal of the full notebook cells\n",
              "var notebookContainer = gd.closest('#notebook-container');\n",
              "if (notebookContainer) {{\n",
              "    x.observe(notebookContainer, {childList: true});\n",
              "}}\n",
              "\n",
              "// Listen for the clearing of the current output cell\n",
              "var outputEl = gd.closest('.output');\n",
              "if (outputEl) {{\n",
              "    x.observe(outputEl, {childList: true});\n",
              "}}\n",
              "\n",
              "                        })                };                            </script>        </div>\n",
              "</body>\n",
              "</html>"
            ]
          },
          "metadata": {}
        }
      ],
      "source": [
        "import plotly.express as px\n",
        "import pandas as pd\n",
        "\n",
        "def plot_top_plotly(fd, title, k=15):\n",
        "    # Get top-k words and counts\n",
        "    data = fd.most_common(k)\n",
        "    df = pd.DataFrame(data, columns=[\"word\", \"count\"])\n",
        "\n",
        "    # Interactive bar chart\n",
        "    fig = px.bar(\n",
        "        df,\n",
        "        x=\"word\",\n",
        "        y=\"count\",\n",
        "        title=title,\n",
        "        labels={\"word\": \"Word\", \"count\": \"Frequency\"},\n",
        "    )\n",
        "\n",
        "    # Rotate x labels for readability\n",
        "    fig.update_layout(xaxis_tickangle=-45)\n",
        "    fig.show()\n",
        "\n",
        "# Use for both speeches\n",
        "plot_top_plotly(fd1, f\"Top terms — {s1}\")\n",
        "plot_top_plotly(fd2, f\"Top terms — {s2}\")\n"
      ]
    },
    {
      "cell_type": "markdown",
      "id": "8c3aaf9d",
      "metadata": {
        "id": "8c3aaf9d"
      },
      "source": [
        "### Compare keyword positions (dispersion) across both speeches  \n",
        "\n",
        "**Why:** A dispersion plot shows where a keyword appears across the length of a text (beginning, middle, or end).  \n",
        "\n",
        "**Why it matters for policy analysis:**  \n",
        "- **Agenda-setting:** If terms like *“economy”* or *“security”* cluster at the start of an address, it signals that these issues are being foregrounded as top priorities.  \n",
        "- **Framing over time:** A keyword like *“immigration”* appearing only in the middle or end may suggest it is treated as secondary or framed as part of a larger argument, not as a headline policy priority.  \n",
        "- **Comparative rhetoric:** Comparing dispersion across two leaders (e.g., one president vs. another) can highlight differences in emphasis. One may return repeatedly to *“freedom”* throughout, while another only mentions it once at the conclusion.  \n",
        "- **Narrative structure:** Dispersion helps uncover how policy issues are woven into a speech’s arc—whether they’re central threads that recur or single-mention talking points.  \n",
        "- **Strategic communication:** Policymakers often place sensitive topics (e.g., *“war”* or *“climate”*) at specific points—either early to show urgency or late to downplay conflict. Dispersion reveals these choices.  \n"
      ]
    },
    {
      "cell_type": "code",
      "execution_count": null,
      "id": "5502a14f",
      "metadata": {
        "id": "5502a14f",
        "colab": {
          "base_uri": "https://localhost:8080/",
          "height": 963
        },
        "outputId": "2b0a5cb3-9896-428a-f3c1-1062cf11ec29"
      },
      "outputs": [
        {
          "output_type": "stream",
          "name": "stdout",
          "text": [
            "2021-Biden.txt\n",
            "2025-Trump.txt\n"
          ]
        },
        {
          "output_type": "display_data",
          "data": {
            "text/plain": [
              "<Figure size 640x480 with 1 Axes>"
            ],
            "image/png": "[encoded data removed]"
          },
          "metadata": {}
        },
        {
          "output_type": "display_data",
          "data": {
            "text/plain": [
              "<Figure size 640x480 with 1 Axes>"
            ],
            "image/png": "[encoded data removed]"
          },
          "metadata": {}
        }
      ],
      "source": [
        "terms = [\"economy\", \"immigration\", \"war\", \"freedom\"]\n",
        "from nltk.text import Text\n",
        "T1 = Text(nltk.word_tokenize(raw1))\n",
        "T2 = Text(nltk.word_tokenize(raw2))\n",
        "print(s1)\n",
        "T1.dispersion_plot(terms)\n",
        "print(s2)\n",
        "T2.dispersion_plot(terms)"
      ]
    },
    {
      "cell_type": "markdown",
      "id": "edcf1ead",
      "metadata": {
        "id": "edcf1ead"
      },
      "source": [
        "## 4) Collocations (common policy phrases)   \n",
        "\n",
        "**What:** Frequently co-occurring word pairs (bigrams) ranked by PMI (Pointwise Mutual Information).  \n",
        "**Why:** Phrases (e.g., *national security*) carry more meaning than single words.  \n",
        "\n",
        "**Why it matters for policy analysis:**  \n",
        "- **Policy framing:** Collocations highlight the exact phrases that shape how an issue is communicated, such as *“climate change”* vs. *“global warming”*.  \n",
        "- **Agenda clustering:** Seeing which words travel together (e.g., *“tax reform”*, *“border security”*) shows how topics are bundled in political discourse.  \n",
        "- **Comparative analysis:** Different actors may use distinct collocations around the same theme (e.g., *“economic growth”* vs. *“job creation”*), revealing ideological leanings.  \n",
        "- **Emerging narratives:** Collocations can uncover new or rising phrases in public debate, such as when *“artificial intelligence”* began appearing alongside *“national competitiveness”*.  \n",
        "- **Precision over frequency:** Unlike raw word counts, collocations filter out generic terms (*“good policy”*) and point to phrases with policy weight.  \n"
      ]
    },
    {
      "cell_type": "code",
      "execution_count": null,
      "id": "eff5d21d",
      "metadata": {
        "id": "eff5d21d",
        "colab": {
          "base_uri": "https://localhost:8080/"
        },
        "outputId": "c2587182-110d-4292-a8b3-e033a0eae272"
      },
      "outputs": [
        {
          "output_type": "execute_result",
          "data": {
            "text/plain": [
              "[('health', 'care'),\n",
              " ('common', 'object'),\n",
              " ('defined', 'common'),\n",
              " ('still', 'disagree'),\n",
              " ('united', 'state'),\n",
              " ('silent', 'prayer'),\n",
              " ('dignity', 'respect'),\n",
              " ('sacred', 'oath'),\n",
              " ('give', 'best'),\n",
              " ('racial', 'justice'),\n",
              " ('whole', 'soul'),\n",
              " ('well', 'believe'),\n",
              " ('civil', 'war'),\n",
              " ('vice', 'president'),\n",
              " ('object', 'love')]"
            ]
          },
          "metadata": {},
          "execution_count": 38
        }
      ],
      "source": [
        "from nltk.collocations import BigramAssocMeasures, BigramCollocationFinder\n",
        "\n",
        "def top_bigrams(tokens, min_freq=3, k=15):\n",
        "    finder = BigramCollocationFinder.from_words(tokens)\n",
        "    finder.apply_freq_filter(min_freq)  # ignore very rare pairs\n",
        "    return finder.nbest(BigramAssocMeasures().pmi, k)\n",
        "\n",
        "top_bigrams(c1, min_freq=2, k=15)"
      ]
    },
    {
      "cell_type": "markdown",
      "id": "ba3ff7a0",
      "metadata": {
        "id": "ba3ff7a0"
      },
      "source": [
        "## 5) VADER sentiment for short political text  \n",
        "\n",
        "**When to use:** Best for very short statements like tweets, headlines, press releases, or soundbites.  \n",
        "\n",
        "**Why it matters for policy analysis:**  \n",
        "- **Media monitoring:** Helps track whether news headlines frame a policy initiative positively (*“landmark reform”*) or negatively (*“controversial overhaul”*).  \n",
        "- **Public opinion:** Useful for analyzing large batches of social media posts about a policy (e.g., reactions to immigration reform) to gauge the emotional temperature of debate.  \n",
        "- **Political rhetoric:** Sentiment scores can show how different politicians frame the same issue—one may describe healthcare with positive sentiment (*“affordable care”*), another with negative (*“broken system”*).  \n",
        "- **Rapid response:** In campaign or policy comms, quick sentiment checks can help staffers spot spikes in negativity that might require counter-messaging.  \n",
        "- **Limitations:** VADER is designed for short, informal text and may miss nuance in long, formal speeches. But for high-volume, short-form content, it’s a powerful first step.  \n"
      ]
    },
    {
      "cell_type": "code",
      "execution_count": null,
      "id": "6aed2d80",
      "metadata": {
        "id": "6aed2d80",
        "colab": {
          "base_uri": "https://localhost:8080/"
        },
        "outputId": "fe004dfc-96c3-447a-8a78-7a0adf3fb4e3"
      },
      "outputs": [
        {
          "output_type": "execute_result",
          "data": {
            "text/plain": [
              "[{'neg': 0.577, 'neu': 0.423, 'pos': 0.0, 'compound': -0.6249},\n",
              " {'neg': 0.0, 'neu': 0.588, 'pos': 0.412, 'compound': 0.4215},\n",
              " {'neg': 0.0, 'neu': 0.561, 'pos': 0.439, 'compound': 0.5719}]"
            ]
          },
          "metadata": {},
          "execution_count": 39
        }
      ],
      "source": [
        "nltk.download(\"vader_lexicon\", quiet=True)\n",
        "from nltk.sentiment import SentimentIntensityAnalyzer\n",
        "sia = SentimentIntensityAnalyzer()\n",
        "\n",
        "examples = [\n",
        "    \"This bill is a disaster.\",\n",
        "    \"Today we achieved historic progress.\",\n",
        "    \"We will work together to secure a fair economy.\"\n",
        "]\n",
        "[sia.polarity_scores(x) for x in examples]"
      ]
    },
    {
      "cell_type": "markdown",
      "id": "5f35c658",
      "metadata": {
        "id": "5f35c658"
      },
      "source": [
        "## 6) Bring your own text  — Google Drive\n",
        "**Tip:** Keep files small (~1–2 MB). Update the path below to your `.txt` file."
      ]
    },
    {
      "cell_type": "code",
      "execution_count": null,
      "id": "77c8afd0",
      "metadata": {
        "id": "77c8afd0",
        "colab": {
          "base_uri": "https://localhost:8080/"
        },
        "outputId": "75b13cc7-a408-41aa-c8ce-37fb90d67e6c"
      },
      "outputs": [
        {
          "output_type": "stream",
          "name": "stdout",
          "text": [
            "Drive already mounted at /content/gdrive; to attempt to forcibly remount, call drive.mount(\"/content/gdrive\", force_remount=True).\n",
            "Update 'filepath' above to your file in Drive.\n"
          ]
        }
      ],
      "source": [
        "from google.colab import drive\n",
        "drive.mount('/content/gdrive')\n",
        "\n",
        "filepath = \"/content/gdrive/MyDrive/path/to/your_text.txt\"  # ← change this\n",
        "try:\n",
        "    raw = open(filepath, encoding='utf-8').read()\n",
        "    toks, toks_nostop, clean_local = run_pipeline(raw)\n",
        "    print(\"Tokens:\", len(toks), \"Unique(clean):\", len(set(clean_local)))\n",
        "    FreqDist(clean_local).most_common(20)\n",
        "except FileNotFoundError:\n",
        "    print(\"Update 'filepath' above to your file in Drive.\")"
      ]
    }
  ],
  "metadata": {
    "colab": {
      "provenance": [],
      "include_colab_link": true
    },
    "language_info": {
      "name": "python"
    },
    "kernelspec": {
      "name": "python3",
      "display_name": "Python 3"
    }
  },
  "nbformat": 4,
  "nbformat_minor": 5
}