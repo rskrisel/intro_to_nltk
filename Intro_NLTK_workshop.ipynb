{
  "cells": [
    {
      "cell_type": "markdown",
      "metadata": {
        "id": "view-in-github",
        "colab_type": "text"
      },
      "source": [
        "<a href=\"https://colab.research.google.com/github/rskrisel/intro_to_nltk/blob/main/Intro_NLTK_workshop.ipynb\" target=\"_parent\"><img src=\"https://colab.research.google.com/assets/colab-badge.svg\" alt=\"Open In Colab\"/></a>"
      ]
    },
    {
      "cell_type": "markdown",
      "source": [
        "# Demystifying Natural Language Processing (NLP): A Beginner's Guide with Python\n",
        "\n",
        "Natural Language Processing (NLP) might sound like a complex term, but it's a fascinating field that empowers computers to understand, interpret, and interact with human language. Imagine a world where machines can comprehend what we say or write, enabling them to provide meaningful responses or even assist in making informed decisions. In this beginner's guide, we'll unravel the mystery of NLP and show you how to get started with NLP using Python.\n",
        "\n",
        "### What is Natural Language Processing?\n",
        "At its core, NLP bridges the gap between human language and computer understanding. It's the technology that enables machines to read, decipher, and derive meaning from human languages, be it written or spoken. Think of it as the technology behind chatbots that answer your queries, recommendation systems that suggest products, or even sentiment analysis tools that gauge public opinion on social media.\n",
        "\n",
        "NLP involves a variety of tasks, including:\n",
        "Text Classification: Categorizing text into predefined classes, like spam detection in emails.\n",
        "Sentiment Analysis: Determining the emotional tone of a text, such as identifying whether a review is positive or negative.\n",
        "Named Entity Recognition: Identifying entities like names of people, places, or organizations in a text.\n",
        "Language Translation: Converting text from one language to another.\n",
        "Text Generation: Creating coherent text based on a given input.\n",
        "Question Answering: Extracting answers from a given text in response to questions.\n",
        "\n",
        "## Getting Started with NLP using Python\n",
        "Python is a popular programming language for NLP due to its rich libraries and tools.\n",
        "\n",
        "Using Python and the Natural Language ToolKit (commonly called `NLTK`), this workshop introduces strategies to turn qualitative texts into quantitative objects. Through that process, we will present a variety of strategies for simple analysis of text-based data.\n",
        "\n",
        "\n",
        "In the following sections, we are going to learn how to work with the NLTK Corpus and go through a series of methods that come built-in to NLTK that allow us to turn our words into numbers and visualizations.\n",
        "\n",
        "Let's start by importing our libraries. Libraries are sets of instructions that Python can use to perform specialized functions. The Natural Language ToolKit (`nltk`) is one such library. As the name suggests, its focus is on language processing.\n",
        "\n",
        "We will also need the `matplotlib` library (for data visualizations) later on, so let's import it now.\n",
        "\n",
        "Finally, because of a quirk of Python notebooks, we need to specify that `matplotlib` should display its graphs in the notebook (as opposed to in a separate window), so we add an additional command (this is technically a Python Notebook command, not Python):\n"
      ],
      "metadata": {
        "id": "cKfBTUYk7kyK"
      }
    },
    {
      "cell_type": "code",
      "execution_count": 40,
      "metadata": {
        "id": "oRDv6_Y53Ify"
      },
      "outputs": [],
      "source": [
        "import nltk\n",
        "import matplotlib\n",
        "%matplotlib inline"
      ]
    },
    {
      "cell_type": "markdown",
      "source": [
        "All three of these commands can be written in the same cell and run all at once (`shift` + `enter`) or in different cells.\n",
        "\n",
        "If you don't see an error when you run the notebook—that is, if there is no output—you can move on to the next step. It is not rare in programming that when you do things right, the result will be nothing happening. This is what we like to call a *silent success*.\n",
        "\n",
        "Next, we need to load our dataset:"
      ],
      "metadata": {
        "id": "JsjUz4A1-E7F"
      }
    },
    {
      "cell_type": "code",
      "source": [
        "nltk.download(\"book\")"
      ],
      "metadata": {
        "colab": {
          "base_uri": "https://localhost:8080/"
        },
        "id": "qFUJ41gDz247",
        "outputId": "6bb3426a-cf9f-4d15-a2ee-e913b8ea5b89"
      },
      "execution_count": 41,
      "outputs": [
        {
          "output_type": "stream",
          "name": "stderr",
          "text": [
            "[nltk_data] Downloading collection 'book'\n",
            "[nltk_data]    | \n",
            "[nltk_data]    | Downloading package abc to /root/nltk_data...\n",
            "[nltk_data]    |   Package abc is already up-to-date!\n",
            "[nltk_data]    | Downloading package brown to /root/nltk_data...\n",
            "[nltk_data]    |   Package brown is already up-to-date!\n",
            "[nltk_data]    | Downloading package chat80 to /root/nltk_data...\n",
            "[nltk_data]    |   Package chat80 is already up-to-date!\n",
            "[nltk_data]    | Downloading package cmudict to /root/nltk_data...\n",
            "[nltk_data]    |   Package cmudict is already up-to-date!\n",
            "[nltk_data]    | Downloading package conll2000 to /root/nltk_data...\n",
            "[nltk_data]    |   Package conll2000 is already up-to-date!\n",
            "[nltk_data]    | Downloading package conll2002 to /root/nltk_data...\n",
            "[nltk_data]    |   Package conll2002 is already up-to-date!\n",
            "[nltk_data]    | Downloading package dependency_treebank to\n",
            "[nltk_data]    |     /root/nltk_data...\n",
            "[nltk_data]    |   Package dependency_treebank is already up-to-date!\n",
            "[nltk_data]    | Downloading package genesis to /root/nltk_data...\n",
            "[nltk_data]    |   Package genesis is already up-to-date!\n",
            "[nltk_data]    | Downloading package gutenberg to /root/nltk_data...\n",
            "[nltk_data]    |   Package gutenberg is already up-to-date!\n",
            "[nltk_data]    | Downloading package ieer to /root/nltk_data...\n",
            "[nltk_data]    |   Package ieer is already up-to-date!\n",
            "[nltk_data]    | Downloading package inaugural to /root/nltk_data...\n",
            "[nltk_data]    |   Package inaugural is already up-to-date!\n",
            "[nltk_data]    | Downloading package movie_reviews to\n",
            "[nltk_data]    |     /root/nltk_data...\n",
            "[nltk_data]    |   Package movie_reviews is already up-to-date!\n",
            "[nltk_data]    | Downloading package nps_chat to /root/nltk_data...\n",
            "[nltk_data]    |   Package nps_chat is already up-to-date!\n",
            "[nltk_data]    | Downloading package names to /root/nltk_data...\n",
            "[nltk_data]    |   Package names is already up-to-date!\n",
            "[nltk_data]    | Downloading package ppattach to /root/nltk_data...\n",
            "[nltk_data]    |   Package ppattach is already up-to-date!\n",
            "[nltk_data]    | Downloading package reuters to /root/nltk_data...\n",
            "[nltk_data]    |   Package reuters is already up-to-date!\n",
            "[nltk_data]    | Downloading package senseval to /root/nltk_data...\n",
            "[nltk_data]    |   Package senseval is already up-to-date!\n",
            "[nltk_data]    | Downloading package state_union to /root/nltk_data...\n",
            "[nltk_data]    |   Package state_union is already up-to-date!\n",
            "[nltk_data]    | Downloading package stopwords to /root/nltk_data...\n",
            "[nltk_data]    |   Package stopwords is already up-to-date!\n",
            "[nltk_data]    | Downloading package swadesh to /root/nltk_data...\n",
            "[nltk_data]    |   Package swadesh is already up-to-date!\n",
            "[nltk_data]    | Downloading package timit to /root/nltk_data...\n",
            "[nltk_data]    |   Package timit is already up-to-date!\n",
            "[nltk_data]    | Downloading package treebank to /root/nltk_data...\n",
            "[nltk_data]    |   Package treebank is already up-to-date!\n",
            "[nltk_data]    | Downloading package toolbox to /root/nltk_data...\n",
            "[nltk_data]    |   Package toolbox is already up-to-date!\n",
            "[nltk_data]    | Downloading package udhr to /root/nltk_data...\n",
            "[nltk_data]    |   Package udhr is already up-to-date!\n",
            "[nltk_data]    | Downloading package udhr2 to /root/nltk_data...\n",
            "[nltk_data]    |   Package udhr2 is already up-to-date!\n",
            "[nltk_data]    | Downloading package unicode_samples to\n",
            "[nltk_data]    |     /root/nltk_data...\n",
            "[nltk_data]    |   Package unicode_samples is already up-to-date!\n",
            "[nltk_data]    | Downloading package webtext to /root/nltk_data...\n",
            "[nltk_data]    |   Package webtext is already up-to-date!\n",
            "[nltk_data]    | Downloading package wordnet to /root/nltk_data...\n",
            "[nltk_data]    |   Package wordnet is already up-to-date!\n",
            "[nltk_data]    | Downloading package wordnet_ic to /root/nltk_data...\n",
            "[nltk_data]    |   Package wordnet_ic is already up-to-date!\n",
            "[nltk_data]    | Downloading package words to /root/nltk_data...\n",
            "[nltk_data]    |   Package words is already up-to-date!\n",
            "[nltk_data]    | Downloading package maxent_treebank_pos_tagger to\n",
            "[nltk_data]    |     /root/nltk_data...\n",
            "[nltk_data]    |   Package maxent_treebank_pos_tagger is already up-\n",
            "[nltk_data]    |       to-date!\n",
            "[nltk_data]    | Downloading package maxent_ne_chunker to\n",
            "[nltk_data]    |     /root/nltk_data...\n",
            "[nltk_data]    |   Package maxent_ne_chunker is already up-to-date!\n",
            "[nltk_data]    | Downloading package universal_tagset to\n",
            "[nltk_data]    |     /root/nltk_data...\n",
            "[nltk_data]    |   Package universal_tagset is already up-to-date!\n",
            "[nltk_data]    | Downloading package punkt to /root/nltk_data...\n",
            "[nltk_data]    |   Package punkt is already up-to-date!\n",
            "[nltk_data]    | Downloading package book_grammars to\n",
            "[nltk_data]    |     /root/nltk_data...\n",
            "[nltk_data]    |   Package book_grammars is already up-to-date!\n",
            "[nltk_data]    | Downloading package city_database to\n",
            "[nltk_data]    |     /root/nltk_data...\n",
            "[nltk_data]    |   Package city_database is already up-to-date!\n",
            "[nltk_data]    | Downloading package tagsets to /root/nltk_data...\n",
            "[nltk_data]    |   Package tagsets is already up-to-date!\n",
            "[nltk_data]    | Downloading package panlex_swadesh to\n",
            "[nltk_data]    |     /root/nltk_data...\n",
            "[nltk_data]    |   Package panlex_swadesh is already up-to-date!\n",
            "[nltk_data]    | Downloading package averaged_perceptron_tagger to\n",
            "[nltk_data]    |     /root/nltk_data...\n",
            "[nltk_data]    |   Package averaged_perceptron_tagger is already up-\n",
            "[nltk_data]    |       to-date!\n",
            "[nltk_data]    | \n",
            "[nltk_data]  Done downloading collection book\n"
          ]
        },
        {
          "output_type": "execute_result",
          "data": {
            "text/plain": [
              "True"
            ]
          },
          "metadata": {},
          "execution_count": 41
        }
      ]
    },
    {
      "cell_type": "code",
      "source": [
        "from nltk.book import *"
      ],
      "metadata": {
        "id": "uWPHO6Jc0XTN"
      },
      "execution_count": 42,
      "outputs": []
    },
    {
      "cell_type": "markdown",
      "source": [
        "The pre-loaded NLTK texts should appear again. These are preformatted data sets. We will still have to do some minor processing, but having the data in this format saves us a few steps. At the end of this tutorial, we will make our own corpus.\n",
        "\n",
        "Each corpus in the collection is stored in a variable, text1 - text9. This makes it easier to select each text based on a variable name.\n",
        "\n",
        "**Let's say you wanted to work with both the `Inaugural Address Corpus` and the `Personals Corpus`. Which variables would you select?**"
      ],
      "metadata": {
        "id": "DKblcviZIm05"
      }
    },
    {
      "cell_type": "markdown",
      "metadata": {
        "id": "g6iMPjM_3If0"
      },
      "source": [
        "## Searching for Words"
      ]
    },
    {
      "cell_type": "markdown",
      "source": [
        "To find specific words in a text, we can use the `concordance` method. \"Concordance\" in this context means the characters on either side of the word. For example, if we wanted to see every instance of the word \"whale\" in Moby Dick, we could run the following code:"
      ],
      "metadata": {
        "id": "DtdQqRDpKnRC"
      }
    },
    {
      "cell_type": "code",
      "execution_count": 43,
      "metadata": {
        "id": "acioOg363If0",
        "outputId": "30d4e71e-d6a1-4d1c-c623-806efc8321a5",
        "colab": {
          "base_uri": "https://localhost:8080/"
        }
      },
      "outputs": [
        {
          "output_type": "stream",
          "name": "stdout",
          "text": [
            "Displaying 25 of 1226 matches:\n",
            "s , and to teach them by what name a whale - fish is to be called in our tongue\n",
            "t which is not true .\" -- HACKLUYT \" WHALE . ... Sw . and Dan . HVAL . This ani\n",
            "ulted .\" -- WEBSTER ' S DICTIONARY \" WHALE . ... It is more immediately from th\n",
            "ISH . WAL , DUTCH . HWAL , SWEDISH . WHALE , ICELANDIC . WHALE , ENGLISH . BALE\n",
            "HWAL , SWEDISH . WHALE , ICELANDIC . WHALE , ENGLISH . BALEINE , FRENCH . BALLE\n",
            "least , take the higgledy - piggledy whale statements , however authentic , in \n",
            " dreadful gulf of this monster ' s ( whale ' s ) mouth , are immediately lost a\n",
            " patient Job .\" -- RABELAIS . \" This whale ' s liver was two cartloads .\" -- ST\n",
            " Touching that monstrous bulk of the whale or ork we have received nothing cert\n",
            " of oil will be extracted out of one whale .\" -- IBID . \" HISTORY OF LIFE AND D\n",
            "ise .\" -- KING HENRY . \" Very like a whale .\" -- HAMLET . \" Which to secure , n\n",
            "restless paine , Like as the wounded whale to shore flies thro ' the maine .\" -\n",
            ". OF SPERMA CETI AND THE SPERMA CETI WHALE . VIDE HIS V . E . \" Like Spencer ' \n",
            "t had been a sprat in the mouth of a whale .\" -- PILGRIM ' S PROGRESS . \" That \n",
            "EN ' S ANNUS MIRABILIS . \" While the whale is floating at the stern of the ship\n",
            "e ship called The Jonas - in - the - Whale . ... Some say the whale can ' t ope\n",
            " in - the - Whale . ... Some say the whale can ' t open his mouth , but that is\n",
            " masts to see whether they can see a whale , for the first discoverer has a duc\n",
            " for his pains . ... I was told of a whale taken near Shetland , that had above\n",
            "oneers told me that he caught once a whale in Spitzbergen that was white all ov\n",
            "2 , one eighty feet in length of the whale - bone kind came in , which ( as I w\n",
            "n master and kill this Sperma - ceti whale , for I could never hear of any of t\n",
            " . 1729 . \"... and the breath of the whale is frequendy attended with such an i\n",
            "ed with hoops and armed with ribs of whale .\" -- RAPE OF THE LOCK . \" If we com\n",
            "contemptible in the comparison . The whale is doubtless the largest animal in c\n"
          ]
        }
      ],
      "source": [
        "text1.concordance(\"whale\")"
      ]
    },
    {
      "cell_type": "markdown",
      "source": [
        "What do you notice about the output?\n",
        "\n",
        "</br>\n",
        "\n",
        "\n",
        "\n",
        "Let's now see which words appear in similar contexts as the word \"love.\" NLTK has a built-in function for this as well: `similar`."
      ],
      "metadata": {
        "id": "v0kdpX0iLLEV"
      }
    },
    {
      "cell_type": "code",
      "execution_count": 44,
      "metadata": {
        "id": "CqNTv_Fj3If0",
        "outputId": "2a8fdf06-6376-4090-fef2-660ee9a8283b",
        "colab": {
          "base_uri": "https://localhost:8080/"
        }
      },
      "outputs": [
        {
          "output_type": "stream",
          "name": "stdout",
          "text": [
            "sea man it ship by him hand them whale view ships land me life death\n",
            "water way head nature fear\n"
          ]
        }
      ],
      "source": [
        "text1.similar(\"love\")"
      ]
    },
    {
      "cell_type": "markdown",
      "source": [
        "Behind the scenes, Python found all the contexts where the word \"love\" appears. It also finds similar environments, and then what words were common among the similar contexts. This gives a sense of what other words appear in similar contexts. This is somewhat interesting, but more interesting if we can compare it to something else. Let's take a look at another text. What about *Sense and Sensibility*? Let's see what words are similar to \"love\" in Jane Austen's writing. In the next cell, type:"
      ],
      "metadata": {
        "id": "dsc8pDGyNNgb"
      }
    },
    {
      "cell_type": "code",
      "execution_count": 45,
      "metadata": {
        "id": "sMJXrUIv3If1",
        "outputId": "e8292820-2aa5-4f87-a329-af6e0608a1b6",
        "colab": {
          "base_uri": "https://localhost:8080/"
        }
      },
      "outputs": [
        {
          "output_type": "stream",
          "name": "stdout",
          "text": [
            "affection sister heart mother time see town life it dear elinor\n",
            "marianne me word family her him do regard head\n"
          ]
        }
      ],
      "source": [
        "text2.similar(\"love\")"
      ]
    },
    {
      "cell_type": "markdown",
      "source": [
        "We can compare the two and see immediately that Melville and Austen use the word \"love\" differently.\n",
        "\n",
        "### Investigating \"lol\"\n",
        "\n",
        "Let's expand from novels for a minute and take a look at the NLTK Chat Corpus. In chats, text messages, and other digital communication platforms, \"lol\" is exceedingly common. We know it doesn't simply mean \"laughing out loud\"—maybe the `similar` function can provide some insight into what it does mean."
      ],
      "metadata": {
        "id": "JuZ_vqM6NjFa"
      }
    },
    {
      "cell_type": "code",
      "execution_count": 46,
      "metadata": {
        "id": "taocr2Ga3If1",
        "outputId": "c5cc5014-37fa-4cfc-eac8-d3243b63acdc",
        "colab": {
          "base_uri": "https://localhost:8080/"
        }
      },
      "outputs": [
        {
          "output_type": "stream",
          "name": "stdout",
          "text": [
            "join part hi hey and wb well ty lmao yeah hiya ok oh hello you what\n",
            "yes haha no all\n"
          ]
        }
      ],
      "source": [
        "text5.similar(\"lol\")"
      ]
    },
    {
      "cell_type": "markdown",
      "source": [
        "\n",
        "The resulting list is a lot of greetings, indicating that \"lol\" probably has more of a [phatic function](http://www.oxfordreference.com/view/10.1093/oi/authority.20110803100321840). Phatic language is language primarily for communicating social closeness. Phatic words stand in contrast to semantic words, which contribute meaning to the utterance.\n",
        "\n",
        "If you are interested in this type of analysis, take a look at the `common_contexts` function in the [NLTK book](https://www.nltk.org/book/) or in the [NLTK docs](https://www.nltk.org/)."
      ],
      "metadata": {
        "id": "L0wMHlFTPmoZ"
      }
    },
    {
      "cell_type": "markdown",
      "source": [
        "### Challenge:\n",
        "Imagine you are a policy analyst working for a think tank and you want to understand how discourse on immigration in Congress as evolved. How might you use the `concordance` and `similar` methods to support your research?"
      ],
      "metadata": {
        "id": "VoyJ8ZK8NzX5"
      }
    },
    {
      "cell_type": "markdown",
      "metadata": {
        "id": "WIROqSqx3If1"
      },
      "source": [
        "## Positioning Words"
      ]
    },
    {
      "cell_type": "markdown",
      "source": [
        "In many ways, `concordance` and `similar` are heightened word searches that tell us something about what is happening near the target words. Another metric we can use is to visualize where the words appear in the text. In the case of *Moby Dick*, we want to compare where \"whale\" and \"monster\" appear throughout the text. In this case, the text is functioning as a list of words, and will make a mark where each word appears, offset from the first word. We will *pass* this *function* a *list* of *strings* to plot. This will likely help us develop a visual of the story - where the whale goes from being a whale to being a monster to being a whale again. In the next cell, type:\n"
      ],
      "metadata": {
        "id": "aVKjq-gOP7Vs"
      }
    },
    {
      "cell_type": "code",
      "execution_count": 47,
      "metadata": {
        "id": "xhKMJ2a_3If1",
        "outputId": "2a648492-04ad-4fef-9706-ccf3d2ae2c61",
        "colab": {
          "base_uri": "https://localhost:8080/",
          "height": 472
        }
      },
      "outputs": [
        {
          "output_type": "display_data",
          "data": {
            "text/plain": [
              "<Figure size 640x480 with 1 Axes>"
            ],
            "image/png": "[encoded data removed]"
          },
          "metadata": {}
        }
      ],
      "source": [
        "text1.dispersion_plot([\"whale\", \"monster\"])"
      ]
    },
    {
      "cell_type": "markdown",
      "source": [
        "A graph should appear with a tick mark everywhere that \"whale\" appears and everywhere that \"monster\" appears. Knowing the story, we can interpret this graph and align it to what we know of how the narrative progresses. If we did not know the story, this could give us a picture of the narrative arc."
      ],
      "metadata": {
        "id": "gl60Bf5LQGa3"
      }
    },
    {
      "cell_type": "markdown",
      "source": [
        "### Challenge:\n",
        "\n",
        "Create a dispersion plot comparing the words \"economy\", \"immigration\", and \"war\" in the Innaugural Address corpus. What do we learn about the prevalence of these issues across the corpus?\n",
        "\n",
        "Play around with other terms in the corpus. What do you find?"
      ],
      "metadata": {
        "id": "ZsYoSOdMQRZM"
      }
    },
    {
      "cell_type": "code",
      "source": [
        "#your answer here"
      ],
      "metadata": {
        "id": "DwUrBOrdQprF"
      },
      "execution_count": 48,
      "outputs": []
    },
    {
      "cell_type": "markdown",
      "metadata": {
        "id": "fYD5ipw-3If1"
      },
      "source": [
        "## Built-In Python Functions\n",
        "\n",
        "We will now turn our attention away from the NLTK library and work with our text using the built-in Python functions—the ones that come included with the Python language, rather than the NLTK library.\n",
        "\n",
        "### Types vs. tokens\n",
        "\n",
        "First, let's find out how many times a given word appears in the corpus. In this case (and all cases going forward), our text will be treated as a list of words. Therefore, we will use the 'count' function. We could just as easily do this with a text editor, but performing this in Python allows us to save it to a variable and then utilize this statistic in other calculations (for example, if we want to know what percentage of words in a corpus are 'lol', we would need a count of the 'lol's). In the next cell, type:\n"
      ]
    },
    {
      "cell_type": "code",
      "execution_count": 49,
      "metadata": {
        "id": "Z2MorvsY3If2",
        "outputId": "deaaba05-e736-4b0a-ad3e-cd3a4e905dae",
        "colab": {
          "base_uri": "https://localhost:8080/"
        }
      },
      "outputs": [
        {
          "output_type": "execute_result",
          "data": {
            "text/plain": [
              "906"
            ]
          },
          "metadata": {},
          "execution_count": 49
        }
      ],
      "source": [
        "text1.count(\"whale\")"
      ]
    },
    {
      "cell_type": "markdown",
      "source": [
        "We see that \"whale\" occurs 906 times, but that seems a little low. Let's check on \"Whale\" and see how often that appears:"
      ],
      "metadata": {
        "id": "bEEs5X1uRwCb"
      }
    },
    {
      "cell_type": "code",
      "execution_count": 50,
      "metadata": {
        "id": "AB3tMjCq3If2",
        "outputId": "17b24b62-0422-45f4-ffd4-691a279a512f",
        "colab": {
          "base_uri": "https://localhost:8080/"
        }
      },
      "outputs": [
        {
          "output_type": "execute_result",
          "data": {
            "text/plain": [
              "282"
            ]
          },
          "metadata": {},
          "execution_count": 50
        }
      ],
      "source": [
        "text1.count(\"Whale\")"
      ]
    },
    {
      "cell_type": "code",
      "execution_count": 51,
      "metadata": {
        "id": "Sq-fgZB_3If2",
        "outputId": "ee38608d-ec9f-4d13-eb59-3c7162f172af",
        "colab": {
          "base_uri": "https://localhost:8080/"
        }
      },
      "outputs": [
        {
          "output_type": "execute_result",
          "data": {
            "text/plain": [
              "38"
            ]
          },
          "metadata": {},
          "execution_count": 51
        }
      ],
      "source": [
        "text1.count(\"WHALE\")"
      ]
    },
    {
      "cell_type": "markdown",
      "source": [
        "\"Whale\" with a capital \"W\" appears 282 times. This is a problem for us—we actually want them to be collapsed into one word, since \"whale\" and \"Whale\" really are the same for our purposes. We will deal with that in a moment. For the time being, we will accept that we have two entries for \"whale.\"\n",
        "\n",
        "This gets at a distinction between **type** and **token**. \"Whale\" and \"whale\" are different types (as of now) because they do not match identically. Every instance of \"whale\" in the corpus is another **token** - it is an instance of the type, \"whale.\" Therefore, there are 906 tokens of \"whale\" in our corpus.\n",
        "\n",
        "Let's fix this by making all of the words lowercase. We will make a new list of words, and call it text1_tokens. We will fill this list with all the words in text1, but in their lowercase form. Python has a built-in function, `lower()` that takes all letters and makes them lowercase. In this same step, we are going to do a kind of tricky move, and only keep the words that are alphabetical and pass over anything that is punctuation or numbers. There is a built-in function, `isalpha()`, that will allow us to save only those words that are made of letters. If `isalpha()` is true, we'll make the word lowercase, and keep the word. If not, we'll pass over it and move to the next one.\n",
        "\n",
        "Type the following code into a new cell in your notebook. Pay special attention to the indentation, which must appear as below.\n"
      ],
      "metadata": {
        "id": "prDbEmjbR66f"
      }
    },
    {
      "cell_type": "code",
      "execution_count": 52,
      "metadata": {
        "id": "7J21tLYx3If2"
      },
      "outputs": [],
      "source": [
        "text1_tokens = []\n",
        "for t in text1:\n",
        "    if t.isalpha():\n",
        "        t = t.lower()\n",
        "        text1_tokens.append(t)"
      ]
    },
    {
      "cell_type": "markdown",
      "source": [
        "Another way to perform the same action more tersely is to use what's called a [list comprehension](https://docs.python.org/3/tutorial/datastructures.html#list-comprehensions). A list comprehension is a shorter, faster way to write a for-loop, but is syntactically a little more difficult to read (for a human). But, in this case, it's much faster to process:"
      ],
      "metadata": {
        "id": "VHBVHIfzSDEz"
      }
    },
    {
      "cell_type": "code",
      "execution_count": 53,
      "metadata": {
        "id": "m3nD-41E3If2"
      },
      "outputs": [],
      "source": [
        "text1_tokens = [t.lower() for t in text1 if t.isalpha()]"
      ]
    },
    {
      "cell_type": "markdown",
      "source": [
        "We can verify that our for_loop did it's job by counting the number of times \"whale\", \"Whale\", and \"WHALE\" appear in our text1_tokens list:"
      ],
      "metadata": {
        "id": "xKBLQlkDSkYz"
      }
    },
    {
      "cell_type": "code",
      "execution_count": 54,
      "metadata": {
        "id": "UFZC30Cl3If2",
        "outputId": "4e5424a9-6065-4575-e6f6-6189016636b7",
        "colab": {
          "base_uri": "https://localhost:8080/"
        }
      },
      "outputs": [
        {
          "output_type": "execute_result",
          "data": {
            "text/plain": [
              "1226"
            ]
          },
          "metadata": {},
          "execution_count": 54
        }
      ],
      "source": [
        "text1_tokens.count(\"whale\")"
      ]
    },
    {
      "cell_type": "code",
      "execution_count": 55,
      "metadata": {
        "id": "L5qoEIZ43If2",
        "outputId": "b6d4f23f-16d7-492f-f7bb-b24c9d0ab860",
        "colab": {
          "base_uri": "https://localhost:8080/"
        }
      },
      "outputs": [
        {
          "output_type": "execute_result",
          "data": {
            "text/plain": [
              "0"
            ]
          },
          "metadata": {},
          "execution_count": 55
        }
      ],
      "source": [
        "text1_tokens.count(\"Whale\")"
      ]
    },
    {
      "cell_type": "code",
      "execution_count": 56,
      "metadata": {
        "id": "2zNBp4Nh3If2",
        "outputId": "5e11010f-148a-4801-a940-17d5428597a9",
        "colab": {
          "base_uri": "https://localhost:8080/"
        }
      },
      "outputs": [
        {
          "output_type": "execute_result",
          "data": {
            "text/plain": [
              "0"
            ]
          },
          "metadata": {},
          "execution_count": 56
        }
      ],
      "source": [
        "text1_tokens.count(\"WHALE\")"
      ]
    },
    {
      "cell_type": "markdown",
      "metadata": {
        "id": "9jVGPvDl3If2"
      },
      "source": [
        "## Length and unique words\n",
        "\n",
        "Great! Now `text1_tokens` is a list of all of the tokens in our corpus, with the punctuation removed, and all the words in lowercase.\n",
        "\n",
        "Now we want to know how many words there are in our corpus—that is, how many tokens in total. Therefore, we want to ask, \"What is the length of that list of words?\" Python has a built-in `len` function that allows you to find out the length of many types. Pass it a list, and it will tell you how many items are in the list. Pass it a string, and it will tell you how many characters are in the string. Pass it a dictionary, and it will tell you how many items are in the dictionary. In the next cell, type:"
      ]
    },
    {
      "cell_type": "code",
      "execution_count": 57,
      "metadata": {
        "id": "gGfje28W3If2",
        "outputId": "7c3e65ba-b81f-4eab-c141-e0fab5080d0b",
        "colab": {
          "base_uri": "https://localhost:8080/"
        }
      },
      "outputs": [
        {
          "output_type": "execute_result",
          "data": {
            "text/plain": [
              "218361"
            ]
          },
          "metadata": {},
          "execution_count": 57
        }
      ],
      "source": [
        "len(text1_tokens)"
      ]
    },
    {
      "cell_type": "markdown",
      "source": [
        "Just for comparison, check out how many words were in \"text1\" - before we removed the punctuation and the numbers."
      ],
      "metadata": {
        "id": "toC3gOdTUBFz"
      }
    },
    {
      "cell_type": "code",
      "execution_count": 58,
      "metadata": {
        "id": "pA8OqVlM3If2",
        "outputId": "b3d0377a-97b3-49d8-d978-39b988fb14d7",
        "colab": {
          "base_uri": "https://localhost:8080/"
        }
      },
      "outputs": [
        {
          "output_type": "execute_result",
          "data": {
            "text/plain": [
              "260819"
            ]
          },
          "metadata": {},
          "execution_count": 58
        }
      ],
      "source": [
        "len(text1)"
      ]
    },
    {
      "cell_type": "markdown",
      "source": [
        "We see there are over 218,000 words in *Moby Dick* (including metadata). But this is the number of words total—we want to know the number of unique words. That is, we want to know how many *types*, not just how many tokens.\n",
        "\n",
        "In order to get unique words, rather than just all words in general, we will make a **set** from the list. Sets in Python work just like they do in math, it's all the unique values, with any duplicate items removed.\n",
        "\n",
        "So let's find out the length of our set. just like in math, we can also nest our functions. So, rather than saying `x=set(text1_tokens)` and then finding the length of x, we can do it all in one step."
      ],
      "metadata": {
        "id": "g3PRUxe0UHZp"
      }
    },
    {
      "cell_type": "code",
      "execution_count": 59,
      "metadata": {
        "id": "roL7ck2X3If2",
        "outputId": "a87d5581-70b8-4b69-c2ec-db9dfadd72bb",
        "colab": {
          "base_uri": "https://localhost:8080/"
        }
      },
      "outputs": [
        {
          "output_type": "execute_result",
          "data": {
            "text/plain": [
              "16948"
            ]
          },
          "metadata": {},
          "execution_count": 59
        }
      ],
      "source": [
        "# Long alternative\n",
        "\n",
        "x = set(text1_tokens)\n",
        "len(x)"
      ]
    },
    {
      "cell_type": "code",
      "execution_count": 60,
      "metadata": {
        "id": "OGZEMLz53If2",
        "outputId": "d43ede2d-4488-4117-e52e-48088b23b71c",
        "colab": {
          "base_uri": "https://localhost:8080/"
        }
      },
      "outputs": [
        {
          "output_type": "execute_result",
          "data": {
            "text/plain": [
              "16948"
            ]
          },
          "metadata": {},
          "execution_count": 60
        }
      ],
      "source": [
        "# Short and sweet alternative\n",
        "len(set(text1_tokens))"
      ]
    },
    {
      "cell_type": "markdown",
      "metadata": {
        "id": "n8Wi0n3E3If2"
      },
      "source": [
        "## Lexical density\n",
        "\n",
        "Great! Now we can calculate the **lexical density** of *Moby Dick*. Statistical studies have shown that lexical density (the number of unique words per total words) is a [good metric to approximate lexical diversity](https://pdfs.semanticscholar.org/c2a8/56959d7f5880c98ccd4cfeb4b4f5b7133ec7.pdf)—the range of vocabulary an author uses. For our first pass at lexical density, we will simply divide the number of unique words by the total number of words:"
      ]
    },
    {
      "cell_type": "code",
      "execution_count": 61,
      "metadata": {
        "id": "BN7_vPsM3If2",
        "outputId": "8a0e18eb-8235-4a73-fc7d-14277b8bb06b",
        "colab": {
          "base_uri": "https://localhost:8080/"
        }
      },
      "outputs": [
        {
          "output_type": "execute_result",
          "data": {
            "text/plain": [
              "0.07761459234936642"
            ]
          },
          "metadata": {},
          "execution_count": 61
        }
      ],
      "source": [
        "len(set(text1_tokens)) / len(text1_tokens)"
      ]
    },
    {
      "cell_type": "markdown",
      "source": [
        "If we want to use this metric to compare texts, we immediately notice a problem. Lexical density is dependent upon the length of a text and therefore is strictly a comparative measure. It is possible to compare 100 words from one text to 100 words from another, but because language is finite and repetitive, it is not possible to compare 100 words from one to 200 words from another. Even with these restrictions, lexical density is a useful metric in grade level estimations, [vocabulary use](http://www.mdpi.com/2226-471X/2/3/7) and genre classification, and a reasonable proxy for lexical diversity.\n",
        "\n",
        "Let's take this constraint into account by working with only the first 10,000 words of our text. First we need to slice our list, returning the words in position 0 to position 9,999 (we'll actually write it as \"up to, but not including\" 10,000)."
      ],
      "metadata": {
        "id": "gI9VItrhU6dF"
      }
    },
    {
      "cell_type": "code",
      "execution_count": 62,
      "metadata": {
        "id": "Zje94klD3If3"
      },
      "outputs": [],
      "source": [
        "text1_slice = text1_tokens[0:10000]"
      ]
    },
    {
      "cell_type": "markdown",
      "source": [
        "Now we can do the same calculation we did above:"
      ],
      "metadata": {
        "id": "4mPBwPDsU_UB"
      }
    },
    {
      "cell_type": "code",
      "execution_count": 63,
      "metadata": {
        "id": "SuEeyiXt3If3",
        "outputId": "9a5d6c51-f13c-4afc-f98e-2ffcbeb67ed2",
        "colab": {
          "base_uri": "https://localhost:8080/"
        }
      },
      "outputs": [
        {
          "output_type": "execute_result",
          "data": {
            "text/plain": [
              "0.2816"
            ]
          },
          "metadata": {},
          "execution_count": 63
        }
      ],
      "source": [
        "len(set(text1_slice)) / len(text1_slice)"
      ]
    },
    {
      "cell_type": "markdown",
      "source": [
        "This is a much higher number, though the number itself is arbitrary. When comparing different texts, this step is essential to get an accurate measure."
      ],
      "metadata": {
        "id": "E0w5zyojVPz1"
      }
    },
    {
      "cell_type": "markdown",
      "source": [
        "### Challenge\n",
        "\n",
        "How might lexical density be used in a policy context? Can you think of ways to apply it to political discourse?"
      ],
      "metadata": {
        "id": "RMJ0s6-KVTXN"
      }
    },
    {
      "cell_type": "markdown",
      "metadata": {
        "id": "2D0sXhYs3If3"
      },
      "source": [
        "## Data Cleaning: removing Stopwords\n",
        "\n",
        "Thus far, we have been asking questions that take stopwords and grammatical features into account. For the most part, we want to exclude these features since they don't actually contribute very much semantic content to our models. Therefore, we will:\n",
        "\n",
        "1. Remove capitalization and punctuation (we've already done this).\n",
        "2. Remove stop words.\n",
        "3. Lemmatize (or stem) our words, i.e. \"jumping\" and \"jumps\" become \"jump.\"\n",
        "\n",
        "\n",
        "## Removing Stopwords\n",
        "\n",
        "We already completed step one, and are now working with our `text1_tokens`. Remember, this variable,  `text1_tokens`, contains a list of strings that we will work with. We want to remove the stop words from that list. The NLTK library comes with fairly comprehensive lists of stop words for many languages. Stop words are function words that contribute very little semantic meaning and most often have grammatical functions. Usually, these are function words such as determiners, prepositions, auxiliaries, and others.\n",
        "\n",
        "To use NLTK's stop words, we need to import the list of words from the corpus. (We could have done this at the beginning of our program, and in more fully developed code, we would put it up there, but this works, too.) In the next cell, type:"
      ]
    },
    {
      "cell_type": "code",
      "execution_count": 64,
      "metadata": {
        "id": "4ZqoFoUy3If3"
      },
      "outputs": [],
      "source": [
        "from nltk.corpus import stopwords"
      ]
    },
    {
      "cell_type": "markdown",
      "source": [
        "Let's take a look at those words:\n",
        "\n",
        "We need to specify the English list, and save it into its own variable that we can use in the next step:"
      ],
      "metadata": {
        "id": "geKmHJcdWlX_"
      }
    },
    {
      "cell_type": "code",
      "execution_count": 65,
      "metadata": {
        "id": "bCV2eUrr3If3"
      },
      "outputs": [],
      "source": [
        "stops = stopwords.words('english')"
      ]
    },
    {
      "cell_type": "code",
      "execution_count": 66,
      "metadata": {
        "id": "Jc0QBcIJ3If3",
        "outputId": "df62ac7e-21b8-4ce3-adb3-dae325ae6718",
        "colab": {
          "base_uri": "https://localhost:8080/"
        }
      },
      "outputs": [
        {
          "output_type": "stream",
          "name": "stdout",
          "text": [
            "['i', 'me', 'my', 'myself', 'we', 'our', 'ours', 'ourselves', 'you', \"you're\", \"you've\", \"you'll\", \"you'd\", 'your', 'yours', 'yourself', 'yourselves', 'he', 'him', 'his', 'himself', 'she', \"she's\", 'her', 'hers', 'herself', 'it', \"it's\", 'its', 'itself', 'they', 'them', 'their', 'theirs', 'themselves', 'what', 'which', 'who', 'whom', 'this', 'that', \"that'll\", 'these', 'those', 'am', 'is', 'are', 'was', 'were', 'be', 'been', 'being', 'have', 'has', 'had', 'having', 'do', 'does', 'did', 'doing', 'a', 'an', 'the', 'and', 'but', 'if', 'or', 'because', 'as', 'until', 'while', 'of', 'at', 'by', 'for', 'with', 'about', 'against', 'between', 'into', 'through', 'during', 'before', 'after', 'above', 'below', 'to', 'from', 'up', 'down', 'in', 'out', 'on', 'off', 'over', 'under', 'again', 'further', 'then', 'once', 'here', 'there', 'when', 'where', 'why', 'how', 'all', 'any', 'both', 'each', 'few', 'more', 'most', 'other', 'some', 'such', 'no', 'nor', 'not', 'only', 'own', 'same', 'so', 'than', 'too', 'very', 's', 't', 'can', 'will', 'just', 'don', \"don't\", 'should', \"should've\", 'now', 'd', 'll', 'm', 'o', 're', 've', 'y', 'ain', 'aren', \"aren't\", 'couldn', \"couldn't\", 'didn', \"didn't\", 'doesn', \"doesn't\", 'hadn', \"hadn't\", 'hasn', \"hasn't\", 'haven', \"haven't\", 'isn', \"isn't\", 'ma', 'mightn', \"mightn't\", 'mustn', \"mustn't\", 'needn', \"needn't\", 'shan', \"shan't\", 'shouldn', \"shouldn't\", 'wasn', \"wasn't\", 'weren', \"weren't\", 'won', \"won't\", 'wouldn', \"wouldn't\"]\n"
          ]
        }
      ],
      "source": [
        "print(stops)"
      ]
    },
    {
      "cell_type": "markdown",
      "source": [
        "Now we want to go through all of the words in our text, and if that word is in the stop words list, remove it from our list. Otherwise, skip it. The code below is VERY slow (there's a faster option beneath it). The way we write this in Python is:"
      ],
      "metadata": {
        "id": "hwiSN-2NWtap"
      }
    },
    {
      "cell_type": "code",
      "execution_count": 67,
      "metadata": {
        "id": "PIiAZ48D3If3"
      },
      "outputs": [],
      "source": [
        "text1_stops = []\n",
        "for t in text1_tokens:\n",
        "    if t not in stops:\n",
        "        text1_stops.append(t)"
      ]
    },
    {
      "cell_type": "markdown",
      "source": [
        "A faster option, using [list comprehensions](https://docs.python.org/3/tutorial/datastructures.html#list-comprehensions):"
      ],
      "metadata": {
        "id": "vNfpSCp5WzH6"
      }
    },
    {
      "cell_type": "code",
      "execution_count": 68,
      "metadata": {
        "id": "Y7SCaSJq3If3"
      },
      "outputs": [],
      "source": [
        "text1_stops = [t for t in text1_tokens if t not in stops]"
      ]
    },
    {
      "cell_type": "markdown",
      "source": [
        "Let's check our results:"
      ],
      "metadata": {
        "id": "_wlwJHgLW0ag"
      }
    },
    {
      "cell_type": "code",
      "execution_count": 69,
      "metadata": {
        "id": "qLvwgivH3If3",
        "outputId": "7954b51a-f27e-4859-a3d0-7dc9045aa841",
        "colab": {
          "base_uri": "https://localhost:8080/"
        }
      },
      "outputs": [
        {
          "output_type": "stream",
          "name": "stdout",
          "text": [
            "['moby', 'dick', 'herman', 'melville', 'etymology', 'supplied', 'late', 'consumptive', 'usher', 'grammar', 'school', 'pale', 'usher', 'threadbare', 'coat', 'heart', 'body', 'brain', 'see', 'ever', 'dusting', 'old', 'lexicons', 'grammars', 'queer', 'handkerchief', 'mockingly', 'embellished', 'gay', 'flags']\n"
          ]
        }
      ],
      "source": [
        "print(text1_stops[:30])"
      ]
    },
    {
      "cell_type": "markdown",
      "source": [
        "### Verifying List Contents\n",
        "\n",
        "Now that we removed our stop words, let's see how many words are left in our list:"
      ],
      "metadata": {
        "id": "X-BJu3deW7P5"
      }
    },
    {
      "cell_type": "code",
      "execution_count": 70,
      "metadata": {
        "id": "PRBSsF7g3If_",
        "outputId": "acddf4e4-0542-4037-d223-fc6068a9b7d5",
        "colab": {
          "base_uri": "https://localhost:8080/"
        }
      },
      "outputs": [
        {
          "output_type": "execute_result",
          "data": {
            "text/plain": [
              "110459"
            ]
          },
          "metadata": {},
          "execution_count": 70
        }
      ],
      "source": [
        "len(text1_stops)"
      ]
    },
    {
      "cell_type": "markdown",
      "source": [
        "You should get a much lower number.\n",
        "\n",
        "For reference, let's also check how many unique words there are. We will do this by making a set of words. Sets are the same in Python as they are in math, they are all of the unique words rather than all the words. So, if \"whale\" appears 200 times in the list of words, it will only appear once in the set."
      ],
      "metadata": {
        "id": "GHX_4gK8W-71"
      }
    },
    {
      "cell_type": "code",
      "execution_count": 71,
      "metadata": {
        "id": "RrGsd3Iw3If_",
        "outputId": "3bf9d274-82cf-4ef0-fe34-bfa5c109e58f",
        "colab": {
          "base_uri": "https://localhost:8080/"
        }
      },
      "outputs": [
        {
          "output_type": "execute_result",
          "data": {
            "text/plain": [
              "16802"
            ]
          },
          "metadata": {},
          "execution_count": 71
        }
      ],
      "source": [
        "len(set(text1_stops))"
      ]
    },
    {
      "cell_type": "markdown",
      "metadata": {
        "id": "hjbJezYb3If_"
      },
      "source": [
        "## Data Cleaning: Lemmatizing Words"
      ]
    },
    {
      "cell_type": "markdown",
      "source": [
        "\n",
        "Now that we've removed the stop words from our corpus, the next step is to stem or lemmatize the remaining words. This means that we will strip off the grammatical structure from the words. For example, cats --> cat, and walked --> walk. If that was all we had to do, we could stem the corpus and achieve the correct result, because stemming (as the name implies) really just means cutting off affixes to find the root (or the stem). Very quickly, however, this gets complicated, such as in the case of men --> man and sang --> sing. Lemmatization deals with this by looking up the word in a reference and finding the appropriate root (though note that this still is not entirely accurate). Lemmatization, therefore, takes a relatively long time, since each word must be looked up in a reference. NLTK comes with pre-built stemmers and lemmatizers.\n",
        "\n",
        "We will use the WordNet Lemmatizer from the NLTK Stem library, so let's import that now:"
      ],
      "metadata": {
        "id": "CozDnukiXMRR"
      }
    },
    {
      "cell_type": "code",
      "execution_count": 72,
      "metadata": {
        "id": "WA3o8McR3If_"
      },
      "outputs": [],
      "source": [
        "from nltk.stem import WordNetLemmatizer"
      ]
    },
    {
      "cell_type": "markdown",
      "source": [
        "Because of the way that it is written \"under the hood,\" an instance of the lemmatizer needs to be called. We know this from reading [the docs](https://www.nltk.org/)."
      ],
      "metadata": {
        "id": "Fwc_EQrNXTkS"
      }
    },
    {
      "cell_type": "code",
      "execution_count": 73,
      "metadata": {
        "id": "0-lcM-bR3If_"
      },
      "outputs": [],
      "source": [
        "wordnet_lemmatizer = WordNetLemmatizer()"
      ]
    },
    {
      "cell_type": "markdown",
      "source": [
        "Let's quickly see what lemmatizing does."
      ],
      "metadata": {
        "id": "DQM-uh6ZXgna"
      }
    },
    {
      "cell_type": "code",
      "execution_count": 74,
      "metadata": {
        "id": "K8X4Eoc33If_",
        "outputId": "713b0f3b-4bc8-4066-ba9a-764ff03986b6",
        "colab": {
          "base_uri": "https://localhost:8080/",
          "height": 35
        }
      },
      "outputs": [
        {
          "output_type": "execute_result",
          "data": {
            "text/plain": [
              "'child'"
            ],
            "application/vnd.google.colaboratory.intrinsic+json": {
              "type": "string"
            }
          },
          "metadata": {},
          "execution_count": 74
        }
      ],
      "source": [
        "wordnet_lemmatizer.lemmatize(\"children\")"
      ]
    },
    {
      "cell_type": "code",
      "execution_count": 75,
      "metadata": {
        "id": "C0Drpk7u3If_",
        "outputId": "b8eb168f-579a-4ad5-bafa-24f0d08a781c",
        "colab": {
          "base_uri": "https://localhost:8080/",
          "height": 35
        }
      },
      "outputs": [
        {
          "output_type": "execute_result",
          "data": {
            "text/plain": [
              "'better'"
            ],
            "application/vnd.google.colaboratory.intrinsic+json": {
              "type": "string"
            }
          },
          "metadata": {},
          "execution_count": 75
        }
      ],
      "source": [
        "wordnet_lemmatizer.lemmatize(\"better\")"
      ]
    },
    {
      "cell_type": "code",
      "execution_count": 76,
      "metadata": {
        "id": "l_BhUsJS3If_",
        "outputId": "fcf3363b-935b-480b-e883-a810cbd96ec2",
        "colab": {
          "base_uri": "https://localhost:8080/",
          "height": 35
        }
      },
      "outputs": [
        {
          "output_type": "execute_result",
          "data": {
            "text/plain": [
              "'good'"
            ],
            "application/vnd.google.colaboratory.intrinsic+json": {
              "type": "string"
            }
          },
          "metadata": {},
          "execution_count": 76
        }
      ],
      "source": [
        "wordnet_lemmatizer.lemmatize(\"better\", pos='a')"
      ]
    },
    {
      "cell_type": "markdown",
      "source": [
        "... sometimes we can get better results if we define a specific part of speech (POS). \"a\" is for \"adjective\", as we learned [here](http://www.nltk.org/_modules/nltk/corpus/reader/wordnet.html)."
      ],
      "metadata": {
        "id": "L2N0E7DhX-wQ"
      }
    },
    {
      "cell_type": "markdown",
      "source": [
        "Now, let's lemmatize the words in our list.\n",
        "\n",
        "Let's start by defining a function that will determine the POS of a particular word and add a tag:"
      ],
      "metadata": {
        "id": "LZksxvG7YP7f"
      }
    },
    {
      "cell_type": "code",
      "source": [
        "# Fcn source: https://medium.com/codex/a-beginners-guide-to-easily-create-a-word-cloud-in-python-7c3078c705b7\n",
        "# and https://www.machinelearningplus.com/nlp/lemmatization-examples-python/)\n",
        "from nltk import pos_tag\n",
        "from nltk.corpus import wordnet\n",
        "\n",
        "\n",
        "def get_wordnet_pos(word):\n",
        "    \"\"\"Map POS tag to first character lemmatize() accepts\"\"\"\n",
        "    tag = nltk.pos_tag([word])[0][1][0].upper()\n",
        "    tag_dict = {\"J\": wordnet.ADJ,\n",
        "                \"N\": wordnet.NOUN,\n",
        "                \"V\": wordnet.VERB,\n",
        "                \"R\": wordnet.ADV}\n",
        "\n",
        "    return tag_dict.get(tag, wordnet.NOUN)"
      ],
      "metadata": {
        "id": "E3lL3LIsYMB9"
      },
      "execution_count": 77,
      "outputs": []
    },
    {
      "cell_type": "code",
      "execution_count": 78,
      "metadata": {
        "id": "oCGL_mGE3If_"
      },
      "outputs": [],
      "source": [
        "text1_clean = []\n",
        "for t in text1_stops:\n",
        "    t_lem = wordnet_lemmatizer.lemmatize(t, get_wordnet_pos(t))\n",
        "    text1_clean.append(t_lem)"
      ]
    },
    {
      "cell_type": "code",
      "execution_count": 79,
      "metadata": {
        "id": "OJRnnpm_3If_"
      },
      "outputs": [],
      "source": [
        "text1_clean_short = [wordnet_lemmatizer.lemmatize(t, get_wordnet_pos(t)) for t in text1_stops]"
      ]
    },
    {
      "cell_type": "code",
      "source": [
        "text1_clean[:30]"
      ],
      "metadata": {
        "colab": {
          "base_uri": "https://localhost:8080/"
        },
        "id": "_2Y6PtVXZquA",
        "outputId": "d563d4b7-0faf-4ca8-b5f7-c5a9f5b2701e"
      },
      "execution_count": 81,
      "outputs": [
        {
          "output_type": "execute_result",
          "data": {
            "text/plain": [
              "['moby',\n",
              " 'dick',\n",
              " 'herman',\n",
              " 'melville',\n",
              " 'etymology',\n",
              " 'supply',\n",
              " 'late',\n",
              " 'consumptive',\n",
              " 'usher',\n",
              " 'grammar',\n",
              " 'school',\n",
              " 'pale',\n",
              " 'usher',\n",
              " 'threadbare',\n",
              " 'coat',\n",
              " 'heart',\n",
              " 'body',\n",
              " 'brain',\n",
              " 'see',\n",
              " 'ever',\n",
              " 'dust',\n",
              " 'old',\n",
              " 'lexicon',\n",
              " 'grammar',\n",
              " 'queer',\n",
              " 'handkerchief',\n",
              " 'mockingly',\n",
              " 'embellish',\n",
              " 'gay',\n",
              " 'flag']"
            ]
          },
          "metadata": {},
          "execution_count": 81
        }
      ]
    },
    {
      "cell_type": "code",
      "source": [
        "text1_clean_short[:30]"
      ],
      "metadata": {
        "colab": {
          "base_uri": "https://localhost:8080/"
        },
        "id": "kXXf8f88Zzez",
        "outputId": "eb54c540-0db9-4ea1-cd82-3a8266740976"
      },
      "execution_count": 83,
      "outputs": [
        {
          "output_type": "execute_result",
          "data": {
            "text/plain": [
              "['moby',\n",
              " 'dick',\n",
              " 'herman',\n",
              " 'melville',\n",
              " 'etymology',\n",
              " 'supply',\n",
              " 'late',\n",
              " 'consumptive',\n",
              " 'usher',\n",
              " 'grammar',\n",
              " 'school',\n",
              " 'pale',\n",
              " 'usher',\n",
              " 'threadbare',\n",
              " 'coat',\n",
              " 'heart',\n",
              " 'body',\n",
              " 'brain',\n",
              " 'see',\n",
              " 'ever',\n",
              " 'dust',\n",
              " 'old',\n",
              " 'lexicon',\n",
              " 'grammar',\n",
              " 'queer',\n",
              " 'handkerchief',\n",
              " 'mockingly',\n",
              " 'embellish',\n",
              " 'gay',\n",
              " 'flag']"
            ]
          },
          "metadata": {},
          "execution_count": 83
        }
      ]
    },
    {
      "cell_type": "markdown",
      "source": [
        "### Verifying List Contents\n",
        "\n",
        "Let's check now to see how long our final, cleaned version of the data is and then check the unique set of words:"
      ],
      "metadata": {
        "id": "kp5deFINaBuI"
      }
    },
    {
      "cell_type": "code",
      "execution_count": 84,
      "metadata": {
        "id": "4Un7Bfd43If_",
        "outputId": "295f0e13-9170-45da-a421-987c1860f4d9",
        "colab": {
          "base_uri": "https://localhost:8080/"
        }
      },
      "outputs": [
        {
          "output_type": "stream",
          "name": "stdout",
          "text": [
            "110459\n",
            "12578\n"
          ]
        }
      ],
      "source": [
        "print(len(text1_clean))\n",
        "print(len(set(text1_clean)))"
      ]
    },
    {
      "cell_type": "markdown",
      "source": [
        "If everything went right, you should have the same length as before, but a smaller number of unique words. That makes sense since we did not remove any word, we only changed some of them.\n",
        "\n",
        "Now let's have a look at the words Melville uses in *Moby Dick*. We'd like to look at all of the *types*, but not necessarily all of the *tokens.* We will order this set so that it is in an order we can handle. In the next cell, type:"
      ],
      "metadata": {
        "id": "flecdEapaVja"
      }
    },
    {
      "cell_type": "code",
      "execution_count": 85,
      "metadata": {
        "id": "gpRO2sWJ3If_",
        "outputId": "4a89b144-722a-4fd4-c151-474fe9583ddf",
        "colab": {
          "base_uri": "https://localhost:8080/"
        }
      },
      "outputs": [
        {
          "output_type": "execute_result",
          "data": {
            "text/plain": [
              "['aback',\n",
              " 'abaft',\n",
              " 'abandon',\n",
              " 'abandonedly',\n",
              " 'abandonment',\n",
              " 'abase',\n",
              " 'abasement',\n",
              " 'abash',\n",
              " 'abate',\n",
              " 'abatement',\n",
              " 'abbreviate',\n",
              " 'abbreviation',\n",
              " 'abeam',\n",
              " 'abed',\n",
              " 'abednego',\n",
              " 'abel',\n",
              " 'abhor',\n",
              " 'abhorrence',\n",
              " 'abhorrent',\n",
              " 'abide',\n",
              " 'ability',\n",
              " 'abjectly',\n",
              " 'abjectus',\n",
              " 'able',\n",
              " 'ablution',\n",
              " 'aboard',\n",
              " 'abode',\n",
              " 'abominable',\n",
              " 'abominate',\n",
              " 'abomination']"
            ]
          },
          "metadata": {},
          "execution_count": 85
        }
      ],
      "source": [
        "sorted(set(text1_clean))[:30]"
      ]
    },
    {
      "cell_type": "markdown",
      "source": [
        "`Sorted` + `set` should give us a list of list of all the words in *Moby Dick* in alphabetical order, but we only want to see the first ones. Notice how there are some words we wouldn't have expected, such as 'abandon', 'abandoned', 'abandonedly', and 'abandonment'. This process is far from perfect, but it is useful."
      ],
      "metadata": {
        "id": "DXg9in1NalG7"
      }
    },
    {
      "cell_type": "markdown",
      "metadata": {
        "id": "S7UeYEJA3IgA"
      },
      "source": [
        "## Data cleaning: results\n"
      ]
    },
    {
      "cell_type": "code",
      "execution_count": 90,
      "metadata": {
        "id": "p_242z-x3IgA"
      },
      "outputs": [],
      "source": [
        "my_dist = FreqDist(text1_clean)"
      ]
    },
    {
      "cell_type": "markdown",
      "source": [
        "If nothing happened, that is normal. Check to make sure it is there by calling for the type of the \"my_dist\" object."
      ],
      "metadata": {
        "id": "SaWUnkicdqYO"
      }
    },
    {
      "cell_type": "code",
      "execution_count": 91,
      "metadata": {
        "id": "UsaNpqHL3IgA",
        "outputId": "19ede891-18d7-49a6-9f12-6f02febf3e2e",
        "colab": {
          "base_uri": "https://localhost:8080/"
        }
      },
      "outputs": [
        {
          "output_type": "execute_result",
          "data": {
            "text/plain": [
              "nltk.probability.FreqDist"
            ]
          },
          "metadata": {},
          "execution_count": 91
        }
      ],
      "source": [
        "type(my_dist)"
      ]
    },
    {
      "cell_type": "markdown",
      "source": [
        "The result should say it is an `nltk probability distribution`, which records the number of times each outcome of an experiment has occurred. We can now plot this with the matplotlib function, `plot`. We want to plot the first 20 entries of the \"my_dist\" object."
      ],
      "metadata": {
        "id": "TBobPuPld0tN"
      }
    },
    {
      "cell_type": "code",
      "execution_count": 92,
      "metadata": {
        "id": "nWhMAB_N3IgA",
        "outputId": "9cca160a-84a9-415d-f1a9-9be9b308ef9f",
        "colab": {
          "base_uri": "https://localhost:8080/",
          "height": 502
        }
      },
      "outputs": [
        {
          "output_type": "display_data",
          "data": {
            "text/plain": [
              "<Figure size 640x480 with 1 Axes>"
            ],
            "image/png": "[encoded data removed]"
          },
          "metadata": {}
        },
        {
          "output_type": "execute_result",
          "data": {
            "text/plain": [
              "<Axes: xlabel='Samples', ylabel='Counts'>"
            ]
          },
          "metadata": {},
          "execution_count": 92
        }
      ],
      "source": [
        "my_dist.plot(20)"
      ]
    },
    {
      "cell_type": "markdown",
      "source": [
        "We've made a nice image here, but it might be easier to comprehend as a list. Because this is a special probability distribution object we can call the \"most common\" on this, too. Let's find the twenty most common words:"
      ],
      "metadata": {
        "id": "FrcGC2v7eM_w"
      }
    },
    {
      "cell_type": "code",
      "execution_count": 93,
      "metadata": {
        "id": "cxcEtH863IgA",
        "outputId": "75141e72-e9c0-409c-a953-b1f72df8958a",
        "colab": {
          "base_uri": "https://localhost:8080/"
        }
      },
      "outputs": [
        {
          "output_type": "execute_result",
          "data": {
            "text/plain": [
              "[('whale', 1626),\n",
              " ('one', 940),\n",
              " ('like', 652),\n",
              " ('say', 634),\n",
              " ('ship', 617),\n",
              " ('upon', 566),\n",
              " ('sea', 542),\n",
              " ('man', 542),\n",
              " ('ahab', 512),\n",
              " ('go', 494),\n",
              " ('boat', 483),\n",
              " ('see', 478),\n",
              " ('ye', 472),\n",
              " ('head', 466),\n",
              " ('seem', 463),\n",
              " ('old', 456),\n",
              " ('time', 446),\n",
              " ('would', 432),\n",
              " ('come', 416),\n",
              " ('though', 384)]"
            ]
          },
          "metadata": {},
          "execution_count": 93
        }
      ],
      "source": [
        "my_dist.most_common(20)"
      ]
    },
    {
      "cell_type": "markdown",
      "source": [
        "What about if we are interested in a list of specific words—perhaps to identify texts that have biblical references. Let's make a (short) list of words that might suggest a biblical reference and see if they appear in *Moby Dick*. Set this list equal to a variable:"
      ],
      "metadata": {
        "id": "xjapfspZeWDm"
      }
    },
    {
      "cell_type": "code",
      "execution_count": 94,
      "metadata": {
        "id": "MTVvv1bb3IgA"
      },
      "outputs": [],
      "source": [
        "b_words = ['god', 'apostle', 'angel']"
      ]
    },
    {
      "cell_type": "markdown",
      "source": [
        "Then we will loop through the words in our cleaned corpus, and see if any of them are in our list of biblical words. We'll then save into another list just those words that appear in both."
      ],
      "metadata": {
        "id": "wNOeODUGec9t"
      }
    },
    {
      "cell_type": "code",
      "execution_count": 95,
      "metadata": {
        "id": "UCPuPG133IgA"
      },
      "outputs": [],
      "source": [
        "my_list = []\n",
        "for word in b_words:\n",
        "    if word in text1_clean:\n",
        "        my_list.append(word)\n",
        "    else:\n",
        "        pass\n"
      ]
    },
    {
      "cell_type": "markdown",
      "source": [
        "And then we will print the results."
      ],
      "metadata": {
        "id": "T9h21kh2ehxo"
      }
    },
    {
      "cell_type": "code",
      "execution_count": null,
      "metadata": {
        "id": "YLSi51wT3IgA",
        "outputId": "40488aa3-71e9-4972-92c7-263dab067022"
      },
      "outputs": [
        {
          "name": "stdout",
          "output_type": "stream",
          "text": [
            "['god', 'angel']\n"
          ]
        }
      ],
      "source": [
        "print(my_list)"
      ]
    },
    {
      "cell_type": "markdown",
      "source": [
        "You can obviously do this with much larger lists and even compare entire novels if you wish, though it would take a while with this approach. You can use this to get similarity measures and answer related questions.\n"
      ],
      "metadata": {
        "id": "NrM7uB3BerDH"
      }
    },
    {
      "cell_type": "markdown",
      "metadata": {
        "id": "S18xffNZ3IgA"
      },
      "source": [
        "## Make Your Own Corpus"
      ]
    },
    {
      "cell_type": "markdown",
      "metadata": {
        "id": "O39f3vnO3IgB"
      },
      "source": [
        "You can also import a text file that is located on your computer/ Google Drive. First let's mount our Google Drive to Colab (see instructions [here](https://neptune.ai/blog/google-colab-dealing-with-files) for more details):"
      ]
    },
    {
      "cell_type": "code",
      "source": [
        "from google.colab import drive\n",
        "drive.mount('/content/gdrive')"
      ],
      "metadata": {
        "colab": {
          "base_uri": "https://localhost:8080/"
        },
        "id": "23V7jWVEgLxr",
        "outputId": "9ce905c2-f237-442c-b982-14e62e2b6645"
      },
      "execution_count": 96,
      "outputs": [
        {
          "output_type": "stream",
          "name": "stdout",
          "text": [
            "Mounted at /content/gdrive\n"
          ]
        }
      ]
    },
    {
      "cell_type": "markdown",
      "source": [
        "Next, let's import all the necessary libraries and modules"
      ],
      "metadata": {
        "id": "47BckbDLj2fu"
      }
    },
    {
      "cell_type": "code",
      "execution_count": 97,
      "metadata": {
        "id": "TtNxVTFe3IgB"
      },
      "outputs": [],
      "source": [
        "import nltk #we need the NLTK library\n",
        "\n",
        "from nltk.corpus import stopwords #we need the list of stopwords\n",
        "stops = stopwords.words('english') #we store the English stopwords in the variable 'stops'\n",
        "\n",
        "from nltk import pos_tag #we import the part of speech tags\n",
        "from nltk.corpus import wordnet # a lexical database for the English language, which was created by Princeton, and is part of the NLTK corpus. You can use WordNet alongside the NLTK module to find the meanings of words, synonyms, antonyms, and more\n",
        "from nltk.stem.wordnet import WordNetLemmatizer #we need this lemmatize our tokens\n",
        "from nltk.text import Text #A wrapper around a sequence of simple (string) tokens, which is intended to support initial exploration of texts (via the interactive console)"
      ]
    },
    {
      "cell_type": "markdown",
      "source": [
        "Let's create a variable `filepath` to store the Google Drive filepath for the file we want to work with."
      ],
      "metadata": {
        "id": "UCyXT8oxkkvl"
      }
    },
    {
      "cell_type": "code",
      "source": [
        "filepath = \"/content/gdrive/MyDrive/SIPA_Teaching/SIPA_F23/NLTK/US_Inaugural_Addresses/33_wilson_1917.txt\""
      ],
      "metadata": {
        "id": "Tm5xEDlkh6CA"
      },
      "execution_count": 102,
      "outputs": []
    },
    {
      "cell_type": "markdown",
      "source": [
        "Then, we open the text file, ensure the encoding is utf-8, read it, and store it in the `text` variable"
      ],
      "metadata": {
        "id": "H0cP_V7_k6kY"
      }
    },
    {
      "cell_type": "code",
      "execution_count": 103,
      "metadata": {
        "id": "UOAj7lxY3IgB"
      },
      "outputs": [],
      "source": [
        "text = open(filepath, encoding='utf-8').read()"
      ]
    },
    {
      "cell_type": "markdown",
      "source": [
        "Let's check the datatype of `text`:"
      ],
      "metadata": {
        "id": "IbjVp3d2lF9_"
      }
    },
    {
      "cell_type": "code",
      "source": [
        "type(text)"
      ],
      "metadata": {
        "colab": {
          "base_uri": "https://localhost:8080/"
        },
        "id": "_fvHqVNLivLq",
        "outputId": "209d8ef3-9dd0-47c6-860e-cfa471c7d182"
      },
      "execution_count": 109,
      "outputs": [
        {
          "output_type": "execute_result",
          "data": {
            "text/plain": [
              "str"
            ]
          },
          "metadata": {},
          "execution_count": 109
        }
      ]
    },
    {
      "cell_type": "markdown",
      "source": [
        "Next, we need to transform our string of words into a list of tokens. We can use the `nltk.word_tokenize` method to complete this step:"
      ],
      "metadata": {
        "id": "m3H7LbSwlTua"
      }
    },
    {
      "cell_type": "code",
      "source": [
        "text_tokens = nltk.word_tokenize(text)"
      ],
      "metadata": {
        "id": "vswISeK0igQm"
      },
      "execution_count": 104,
      "outputs": []
    },
    {
      "cell_type": "markdown",
      "source": [
        "Let's check the datatype for `text_tokens`:"
      ],
      "metadata": {
        "id": "BgzMZCcHlkk5"
      }
    },
    {
      "cell_type": "code",
      "source": [
        "type(text_tokens)"
      ],
      "metadata": {
        "colab": {
          "base_uri": "https://localhost:8080/"
        },
        "id": "qdE1X4nOisON",
        "outputId": "650e683b-b6de-4dfe-bf74-212bb5d1b9f7"
      },
      "execution_count": 108,
      "outputs": [
        {
          "output_type": "execute_result",
          "data": {
            "text/plain": [
              "list"
            ]
          },
          "metadata": {},
          "execution_count": 108
        }
      ]
    },
    {
      "cell_type": "markdown",
      "source": [
        "Finally, in order to apply the various NLTK analysis tools, we need to convert our list into a `Text object`, which can act as a sequence of strings or as a list."
      ],
      "metadata": {
        "id": "B7cT751zlvKN"
      }
    },
    {
      "cell_type": "code",
      "source": [
        "nltk_text = nltk.Text(text_tokens)"
      ],
      "metadata": {
        "id": "gecJoIjpiVYd"
      },
      "execution_count": 105,
      "outputs": []
    },
    {
      "cell_type": "markdown",
      "source": [
        "Let's check the datatype for `nltk_text`:"
      ],
      "metadata": {
        "id": "mSZQeHuamFd_"
      }
    },
    {
      "cell_type": "code",
      "source": [
        "type(nltk_text)"
      ],
      "metadata": {
        "colab": {
          "base_uri": "https://localhost:8080/"
        },
        "id": "4YmYNBcMioY5",
        "outputId": "1c5b29fd-7fd9-4bc0-c046-42ee3001cbc7"
      },
      "execution_count": 107,
      "outputs": [
        {
          "output_type": "execute_result",
          "data": {
            "text/plain": [
              "nltk.text.Text"
            ]
          },
          "metadata": {},
          "execution_count": 107
        }
      ]
    },
    {
      "cell_type": "markdown",
      "source": [],
      "metadata": {
        "id": "CQ_pAmjHouvC"
      }
    },
    {
      "cell_type": "markdown",
      "source": [
        "Great! Now our `.txt` file is a `Text object`! Note: if we wanted to run the `concordance` or `similar` methods, `nltk_text` is the variable we would use. See below!\n",
        "\n",
        "\n",
        "First, let's clean and visualize it our text!*italicized text*"
      ],
      "metadata": {
        "id": "bWsns1DamNlK"
      }
    },
    {
      "cell_type": "code",
      "source": [
        "text_lower = [t.lower() for t in nltk_text if t.isalnum()] #note, 'isalnum' will keep all instance of letters and numbers"
      ],
      "metadata": {
        "id": "WmqP7aRuiVrk"
      },
      "execution_count": 118,
      "outputs": []
    },
    {
      "cell_type": "code",
      "source": [
        "text_stops = [t for t in text_lower if t not in stops]"
      ],
      "metadata": {
        "id": "H5fv6VbsiV-9"
      },
      "execution_count": 119,
      "outputs": []
    },
    {
      "cell_type": "code",
      "source": [
        "text_clean = [WordNetLemmatizer().lemmatize(t, get_wordnet_pos(t)) for t in text_stops]"
      ],
      "metadata": {
        "id": "pBeKSz3fidtU"
      },
      "execution_count": 120,
      "outputs": []
    },
    {
      "cell_type": "markdown",
      "source": [
        "Let's check the datatype for `text_clean`:\n"
      ],
      "metadata": {
        "id": "632kOB5gmwKc"
      }
    },
    {
      "cell_type": "code",
      "execution_count": 117,
      "metadata": {
        "id": "TQ9jAOeO3IgC",
        "colab": {
          "base_uri": "https://localhost:8080/"
        },
        "outputId": "0e56bc85-2859-464c-b940-83933eddb43a"
      },
      "outputs": [
        {
          "output_type": "execute_result",
          "data": {
            "text/plain": [
              "list"
            ]
          },
          "metadata": {},
          "execution_count": 117
        }
      ],
      "source": [
        "type(text_clean)"
      ]
    },
    {
      "cell_type": "markdown",
      "source": [
        "Now let's create a frequency distribution plot:"
      ],
      "metadata": {
        "id": "odu71QV7o3Gi"
      }
    },
    {
      "cell_type": "code",
      "source": [
        "my_dist = FreqDist(text_clean)"
      ],
      "metadata": {
        "id": "Cjjb8j6XnB1s"
      },
      "execution_count": 121,
      "outputs": []
    },
    {
      "cell_type": "code",
      "source": [
        "type(my_dist)"
      ],
      "metadata": {
        "colab": {
          "base_uri": "https://localhost:8080/"
        },
        "id": "i1hKYibanCZH",
        "outputId": "0d29cdc9-c68d-40d9-9c25-781d06a00214"
      },
      "execution_count": 122,
      "outputs": [
        {
          "output_type": "execute_result",
          "data": {
            "text/plain": [
              "nltk.probability.FreqDist"
            ]
          },
          "metadata": {},
          "execution_count": 122
        }
      ]
    },
    {
      "cell_type": "code",
      "source": [
        "my_dist.plot(20)"
      ],
      "metadata": {
        "colab": {
          "base_uri": "https://localhost:8080/",
          "height": 512
        },
        "id": "5ZgI77DAnCm5",
        "outputId": "b83fafbc-ae74-4a45-9e8c-2c05cb421463"
      },
      "execution_count": 123,
      "outputs": [
        {
          "output_type": "display_data",
          "data": {
            "text/plain": [
              "<Figure size 640x480 with 1 Axes>"
            ],
            "image/png": "[encoded data removed]"
          },
          "metadata": {}
        },
        {
          "output_type": "execute_result",
          "data": {
            "text/plain": [
              "<Axes: xlabel='Samples', ylabel='Counts'>"
            ]
          },
          "metadata": {},
          "execution_count": 123
        }
      ]
    },
    {
      "cell_type": "code",
      "source": [
        "my_dist.most_common(20)"
      ],
      "metadata": {
        "colab": {
          "base_uri": "https://localhost:8080/"
        },
        "id": "vcFXjCYOnCwP",
        "outputId": "60c7cb7d-0888-4027-8b0b-8a2d9f9bb0a1"
      },
      "execution_count": 124,
      "outputs": [
        {
          "output_type": "execute_result",
          "data": {
            "text/plain": [
              "[('upon', 13),\n",
              " ('purpose', 9),\n",
              " ('shall', 9),\n",
              " ('nation', 9),\n",
              " ('people', 8),\n",
              " ('u', 8),\n",
              " ('action', 7),\n",
              " ('thought', 7),\n",
              " ('stand', 7),\n",
              " ('power', 7),\n",
              " ('counsel', 6),\n",
              " ('life', 6),\n",
              " ('wish', 6),\n",
              " ('world', 6),\n",
              " ('peace', 6),\n",
              " ('principle', 6),\n",
              " ('thing', 6),\n",
              " ('interest', 5),\n",
              " ('spirit', 5),\n",
              " ('national', 5)]"
            ]
          },
          "metadata": {},
          "execution_count": 124
        }
      ]
    },
    {
      "cell_type": "markdown",
      "source": [
        "Let's see all the context in which the word `nation` appears:"
      ],
      "metadata": {
        "id": "j6iGMqY0o8MR"
      }
    },
    {
      "cell_type": "code",
      "source": [
        "nltk_text.similar('nation')"
      ],
      "metadata": {
        "colab": {
          "base_uri": "https://localhost:8080/"
        },
        "id": "G65ABX1toAjq",
        "outputId": "cba1ec28-0d3e-48d7-c416-9ca448763b73"
      },
      "execution_count": 126,
      "outputs": [
        {
          "output_type": "stream",
          "name": "stdout",
          "text": [
            "world passion composite freedom principles opportunity days prudence\n"
          ]
        }
      ]
    }
  ],
  "metadata": {
    "kernelspec": {
      "display_name": "Python 3 (ipykernel)",
      "language": "python",
      "name": "python3"
    },
    "language_info": {
      "codemirror_mode": {
        "name": "ipython",
        "version": 3
      },
      "file_extension": ".py",
      "mimetype": "text/x-python",
      "name": "python",
      "nbconvert_exporter": "python",
      "pygments_lexer": "ipython3",
      "version": "3.10.9"
    },
    "colab": {
      "provenance": [],
      "include_colab_link": true
    }
  },
  "nbformat": 4,
  "nbformat_minor": 0
}